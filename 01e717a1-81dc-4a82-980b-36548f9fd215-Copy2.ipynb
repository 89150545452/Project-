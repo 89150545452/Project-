
    "# Исследование надежности заемщиков\n"
   ]
  },
  {
   "cell_type": "markdown",
   "id": "827c20bf",
   "metadata": {
    "id": "827c20bf"
   },
   "source": [
    "Во второй части проекта вы выполните шаги 3 и 4. Их вручную проверит ревьюер.\n",
    "Чтобы вам не пришлось писать код заново для шагов 1 и 2, мы добавили авторские решения в ячейки с кодом. \n",
    "\n"
   ]
  },
  {
   "cell_type": "markdown",
   "id": "744d7639",
   "metadata": {
    "deletable": false,
    "id": "744d7639"
   },
   "source": [
    "## Откройте таблицу и изучите общую информацию о данных"
   ]
  },
  {
   "cell_type": "markdown",
   "id": "e7a14c31",
   "metadata": {
    "deletable": false,
    "id": "e7a14c31"
   },
   "source": [
    "**Задание 1. Импортируйте библиотеку pandas. Считайте данные из csv-файла в датафрейм и сохраните в переменную `data`. Путь к файлу:**\n",
    "\n",
    "`/datasets/data.csv`"
   ]
  },
  {
   "cell_type": "code",
   "execution_count": 2,
   "id": "7bcf75c9",
   "metadata": {
    "deletable": false,
    "id": "7bcf75c9"
   },
   "outputs": [],
   "source": [
    "import pandas as pd\n",
    "\n",
    "try:\n",
    "    data = pd.read_csv('/datasets/data.csv')\n",
    "except:\n",
    "    data = pd.read_csv('https://code.s3.yandex.net/datasets/data.csv')"
   ]
  },
  {
   "cell_type": "markdown",
   "id": "b8038fe3",
   "metadata": {
    "deletable": false,
    "id": "b8038fe3"
   },
   "source": [
    "**Задание 2. Выведите первые 20 строчек датафрейма `data` на экран.**"
   ]
  },
  {
   "cell_type": "code",
   "execution_count": 3,
   "id": "2a7cab99",
   "metadata": {
    "deletable": false,
    "id": "2a7cab99",
    "outputId": "1a8f3ef2-d323-4ec2-ddf7-89670b5944c4"
   },
   "outputs": [
    {
     "data": {
      "text/html": [
       "<div>\n",
       "<style scoped>\n",
       "    .dataframe tbody tr th:only-of-type {\n",
       "        vertical-align: middle;\n",
       "    }\n",
       "\n",
       "    .dataframe tbody tr th {\n",
       "        vertical-align: top;\n",
       "    }\n",
       "\n",
       "    .dataframe thead th {\n",
       "        text-align: right;\n",
       "    }\n",
       "</style>\n",
       "<table border=\"1\" class=\"dataframe\">\n",
       "  <thead>\n",
       "    <tr style=\"text-align: right;\">\n",
       "      <th></th>\n",
       "      <th>children</th>\n",
       "      <th>days_employed</th>\n",
       "      <th>dob_years</th>\n",
       "      <th>education</th>\n",
       "      <th>education_id</th>\n",
       "      <th>family_status</th>\n",
       "      <th>family_status_id</th>\n",
       "      <th>gender</th>\n",
       "      <th>income_type</th>\n",
       "      <th>debt</th>\n",
       "      <th>total_income</th>\n",
       "      <th>purpose</th>\n",
       "    </tr>\n",
       "  </thead>\n",
       "  <tbody>\n",
       "    <tr>\n",
       "      <th>0</th>\n",
       "      <td>1</td>\n",
       "      <td>-8437.673028</td>\n",
       "      <td>42</td>\n",
       "      <td>высшее</td>\n",
       "      <td>0</td>\n",
       "      <td>женат / замужем</td>\n",
       "      <td>0</td>\n",
       "      <td>F</td>\n",
       "      <td>сотрудник</td>\n",
       "      <td>0</td>\n",
       "      <td>253875.639453</td>\n",
       "      <td>покупка жилья</td>\n",
       "    </tr>\n",
       "    <tr>\n",
       "      <th>1</th>\n",
       "      <td>1</td>\n",
       "      <td>-4024.803754</td>\n",
       "      <td>36</td>\n",
       "      <td>среднее</td>\n",
       "      <td>1</td>\n",
       "      <td>женат / замужем</td>\n",
       "      <td>0</td>\n",
       "      <td>F</td>\n",
       "      <td>сотрудник</td>\n",
       "      <td>0</td>\n",
       "      <td>112080.014102</td>\n",
       "      <td>приобретение автомобиля</td>\n",
       "    </tr>\n",
       "    <tr>\n",
       "      <th>2</th>\n",
       "      <td>0</td>\n",
       "      <td>-5623.422610</td>\n",
       "      <td>33</td>\n",
       "      <td>Среднее</td>\n",
       "      <td>1</td>\n",
       "      <td>женат / замужем</td>\n",
       "      <td>0</td>\n",
       "      <td>M</td>\n",
       "      <td>сотрудник</td>\n",
       "      <td>0</td>\n",
       "      <td>145885.952297</td>\n",
       "      <td>покупка жилья</td>\n",
       "    </tr>\n",
       "    <tr>\n",
       "      <th>3</th>\n",
       "      <td>3</td>\n",
       "      <td>-4124.747207</td>\n",
       "      <td>32</td>\n",
       "      <td>среднее</td>\n",
       "      <td>1</td>\n",
       "      <td>женат / замужем</td>\n",
       "      <td>0</td>\n",
       "      <td>M</td>\n",
       "      <td>сотрудник</td>\n",
       "      <td>0</td>\n",
       "      <td>267628.550329</td>\n",
       "      <td>дополнительное образование</td>\n",
       "    </tr>\n",
       "    <tr>\n",
       "      <th>4</th>\n",
       "      <td>0</td>\n",
       "      <td>340266.072047</td>\n",
       "      <td>53</td>\n",
       "      <td>среднее</td>\n",
       "      <td>1</td>\n",
       "      <td>гражданский брак</td>\n",
       "      <td>1</td>\n",
       "      <td>F</td>\n",
       "      <td>пенсионер</td>\n",
       "      <td>0</td>\n",
       "      <td>158616.077870</td>\n",
       "      <td>сыграть свадьбу</td>\n",
       "    </tr>\n",
       "    <tr>\n",
       "      <th>5</th>\n",
       "      <td>0</td>\n",
       "      <td>-926.185831</td>\n",
       "      <td>27</td>\n",
       "      <td>высшее</td>\n",
       "      <td>0</td>\n",
       "      <td>гражданский брак</td>\n",
       "      <td>1</td>\n",
       "      <td>M</td>\n",
       "      <td>компаньон</td>\n",
       "      <td>0</td>\n",
       "      <td>255763.565419</td>\n",
       "      <td>покупка жилья</td>\n",
       "    </tr>\n",
       "    <tr>\n",
       "      <th>6</th>\n",
       "      <td>0</td>\n",
       "      <td>-2879.202052</td>\n",
       "      <td>43</td>\n",
       "      <td>высшее</td>\n",
       "      <td>0</td>\n",
       "      <td>женат / замужем</td>\n",
       "      <td>0</td>\n",
       "      <td>F</td>\n",
       "      <td>компаньон</td>\n",
       "      <td>0</td>\n",
       "      <td>240525.971920</td>\n",
       "      <td>операции с жильем</td>\n",
       "    </tr>\n",
       "    <tr>\n",
       "      <th>7</th>\n",
       "      <td>0</td>\n",
       "      <td>-152.779569</td>\n",
       "      <td>50</td>\n",
       "      <td>СРЕДНЕЕ</td>\n",
       "      <td>1</td>\n",
       "      <td>женат / замужем</td>\n",
       "      <td>0</td>\n",
       "      <td>M</td>\n",
       "      <td>сотрудник</td>\n",
       "      <td>0</td>\n",
       "      <td>135823.934197</td>\n",
       "      <td>образование</td>\n",
       "    </tr>\n",
       "    <tr>\n",
       "      <th>8</th>\n",
       "      <td>2</td>\n",
       "      <td>-6929.865299</td>\n",
       "      <td>35</td>\n",
       "      <td>ВЫСШЕЕ</td>\n",
       "      <td>0</td>\n",
       "      <td>гражданский брак</td>\n",
       "      <td>1</td>\n",
       "      <td>F</td>\n",
       "      <td>сотрудник</td>\n",
       "      <td>0</td>\n",
       "      <td>95856.832424</td>\n",
       "      <td>на проведение свадьбы</td>\n",
       "    </tr>\n",
       "    <tr>\n",
       "      <th>9</th>\n",
       "      <td>0</td>\n",
       "      <td>-2188.756445</td>\n",
       "      <td>41</td>\n",
       "      <td>среднее</td>\n",
       "      <td>1</td>\n",
       "      <td>женат / замужем</td>\n",
       "      <td>0</td>\n",
       "      <td>M</td>\n",
       "      <td>сотрудник</td>\n",
       "      <td>0</td>\n",
       "      <td>144425.938277</td>\n",
       "      <td>покупка жилья для семьи</td>\n",
       "    </tr>\n",
       "    <tr>\n",
       "      <th>10</th>\n",
       "      <td>2</td>\n",
       "      <td>-4171.483647</td>\n",
       "      <td>36</td>\n",
       "      <td>высшее</td>\n",
       "      <td>0</td>\n",
       "      <td>женат / замужем</td>\n",
       "      <td>0</td>\n",
       "      <td>M</td>\n",
       "      <td>компаньон</td>\n",
       "      <td>0</td>\n",
       "      <td>113943.491460</td>\n",
       "      <td>покупка недвижимости</td>\n",
       "    </tr>\n",
       "    <tr>\n",
       "      <th>11</th>\n",
       "      <td>0</td>\n",
       "      <td>-792.701887</td>\n",
       "      <td>40</td>\n",
       "      <td>среднее</td>\n",
       "      <td>1</td>\n",
       "      <td>женат / замужем</td>\n",
       "      <td>0</td>\n",
       "      <td>F</td>\n",
       "      <td>сотрудник</td>\n",
       "      <td>0</td>\n",
       "      <td>77069.234271</td>\n",
       "      <td>покупка коммерческой недвижимости</td>\n",
       "    </tr>\n",
       "    <tr>\n",
       "      <th>12</th>\n",
       "      <td>0</td>\n",
       "      <td>NaN</td>\n",
       "      <td>65</td>\n",
       "      <td>среднее</td>\n",
       "      <td>1</td>\n",
       "      <td>гражданский брак</td>\n",
       "      <td>1</td>\n",
       "      <td>M</td>\n",
       "      <td>пенсионер</td>\n",
       "      <td>0</td>\n",
       "      <td>NaN</td>\n",
       "      <td>сыграть свадьбу</td>\n",
       "    </tr>\n",
       "    <tr>\n",
       "      <th>13</th>\n",
       "      <td>0</td>\n",
       "      <td>-1846.641941</td>\n",
       "      <td>54</td>\n",
       "      <td>неоконченное высшее</td>\n",
       "      <td>2</td>\n",
       "      <td>женат / замужем</td>\n",
       "      <td>0</td>\n",
       "      <td>F</td>\n",
       "      <td>сотрудник</td>\n",
       "      <td>0</td>\n",
       "      <td>130458.228857</td>\n",
       "      <td>приобретение автомобиля</td>\n",
       "    </tr>\n",
       "    <tr>\n",
       "      <th>14</th>\n",
       "      <td>0</td>\n",
       "      <td>-1844.956182</td>\n",
       "      <td>56</td>\n",
       "      <td>высшее</td>\n",
       "      <td>0</td>\n",
       "      <td>гражданский брак</td>\n",
       "      <td>1</td>\n",
       "      <td>F</td>\n",
       "      <td>компаньон</td>\n",
       "      <td>1</td>\n",
       "      <td>165127.911772</td>\n",
       "      <td>покупка жилой недвижимости</td>\n",
       "    </tr>\n",
       "    <tr>\n",
       "      <th>15</th>\n",
       "      <td>1</td>\n",
       "      <td>-972.364419</td>\n",
       "      <td>26</td>\n",
       "      <td>среднее</td>\n",
       "      <td>1</td>\n",
       "      <td>женат / замужем</td>\n",
       "      <td>0</td>\n",
       "      <td>F</td>\n",
       "      <td>сотрудник</td>\n",
       "      <td>0</td>\n",
       "      <td>116820.904450</td>\n",
       "      <td>строительство собственной недвижимости</td>\n",
       "    </tr>\n",
       "    <tr>\n",
       "      <th>16</th>\n",
       "      <td>0</td>\n",
       "      <td>-1719.934226</td>\n",
       "      <td>35</td>\n",
       "      <td>среднее</td>\n",
       "      <td>1</td>\n",
       "      <td>женат / замужем</td>\n",
       "      <td>0</td>\n",
       "      <td>F</td>\n",
       "      <td>сотрудник</td>\n",
       "      <td>0</td>\n",
       "      <td>289202.704229</td>\n",
       "      <td>недвижимость</td>\n",
       "    </tr>\n",
       "    <tr>\n",
       "      <th>17</th>\n",
       "      <td>0</td>\n",
       "      <td>-2369.999720</td>\n",
       "      <td>33</td>\n",
       "      <td>высшее</td>\n",
       "      <td>0</td>\n",
       "      <td>гражданский брак</td>\n",
       "      <td>1</td>\n",
       "      <td>M</td>\n",
       "      <td>сотрудник</td>\n",
       "      <td>0</td>\n",
       "      <td>90410.586745</td>\n",
       "      <td>строительство недвижимости</td>\n",
       "    </tr>\n",
       "    <tr>\n",
       "      <th>18</th>\n",
       "      <td>0</td>\n",
       "      <td>400281.136913</td>\n",
       "      <td>53</td>\n",
       "      <td>среднее</td>\n",
       "      <td>1</td>\n",
       "      <td>вдовец / вдова</td>\n",
       "      <td>2</td>\n",
       "      <td>F</td>\n",
       "      <td>пенсионер</td>\n",
       "      <td>0</td>\n",
       "      <td>56823.777243</td>\n",
       "      <td>на покупку подержанного автомобиля</td>\n",
       "    </tr>\n",
       "    <tr>\n",
       "      <th>19</th>\n",
       "      <td>0</td>\n",
       "      <td>-10038.818549</td>\n",
       "      <td>48</td>\n",
       "      <td>СРЕДНЕЕ</td>\n",
       "      <td>1</td>\n",
       "      <td>в разводе</td>\n",
       "      <td>3</td>\n",
       "      <td>F</td>\n",
       "      <td>сотрудник</td>\n",
       "      <td>0</td>\n",
       "      <td>242831.107982</td>\n",
       "      <td>на покупку своего автомобиля</td>\n",
       "    </tr>\n",
       "  </tbody>\n",
       "</table>\n",
       "</div>"
      ],
      "text/plain": [
       "    children  days_employed  dob_years            education  education_id  \\\n",
       "0          1   -8437.673028         42               высшее             0   \n",
       "1          1   -4024.803754         36              среднее             1   \n",
       "2          0   -5623.422610         33              Среднее             1   \n",
       "3          3   -4124.747207         32              среднее             1   \n",
       "4          0  340266.072047         53              среднее             1   \n",
       "5          0    -926.185831         27               высшее             0   \n",
       "6          0   -2879.202052         43               высшее             0   \n",
       "7          0    -152.779569         50              СРЕДНЕЕ             1   \n",
       "8          2   -6929.865299         35               ВЫСШЕЕ             0   \n",
       "9          0   -2188.756445         41              среднее             1   \n",
       "10         2   -4171.483647         36               высшее             0   \n",
       "11         0    -792.701887         40              среднее             1   \n",
       "12         0            NaN         65              среднее             1   \n",
       "13         0   -1846.641941         54  неоконченное высшее             2   \n",
       "14         0   -1844.956182         56               высшее             0   \n",
       "15         1    -972.364419         26              среднее             1   \n",
       "16         0   -1719.934226         35              среднее             1   \n",
       "17         0   -2369.999720         33               высшее             0   \n",
       "18         0  400281.136913         53              среднее             1   \n",
       "19         0  -10038.818549         48              СРЕДНЕЕ             1   \n",
       "\n",
       "       family_status  family_status_id gender income_type  debt  \\\n",
       "0    женат / замужем                 0      F   сотрудник     0   \n",
       "1    женат / замужем                 0      F   сотрудник     0   \n",
       "2    женат / замужем                 0      M   сотрудник     0   \n",
       "3    женат / замужем                 0      M   сотрудник     0   \n",
       "4   гражданский брак                 1      F   пенсионер     0   \n",
       "5   гражданский брак                 1      M   компаньон     0   \n",
       "6    женат / замужем                 0      F   компаньон     0   \n",
       "7    женат / замужем                 0      M   сотрудник     0   \n",
       "8   гражданский брак                 1      F   сотрудник     0   \n",
       "9    женат / замужем                 0      M   сотрудник     0   \n",
       "10   женат / замужем                 0      M   компаньон     0   \n",
       "11   женат / замужем                 0      F   сотрудник     0   \n",
       "12  гражданский брак                 1      M   пенсионер     0   \n",
       "13   женат / замужем                 0      F   сотрудник     0   \n",
       "14  гражданский брак                 1      F   компаньон     1   \n",
       "15   женат / замужем                 0      F   сотрудник     0   \n",
       "16   женат / замужем                 0      F   сотрудник     0   \n",
       "17  гражданский брак                 1      M   сотрудник     0   \n",
       "18    вдовец / вдова                 2      F   пенсионер     0   \n",
       "19         в разводе                 3      F   сотрудник     0   \n",
       "\n",
       "     total_income                                 purpose  \n",
       "0   253875.639453                           покупка жилья  \n",
       "1   112080.014102                 приобретение автомобиля  \n",
       "2   145885.952297                           покупка жилья  \n",
       "3   267628.550329              дополнительное образование  \n",
       "4   158616.077870                         сыграть свадьбу  \n",
       "5   255763.565419                           покупка жилья  \n",
       "6   240525.971920                       операции с жильем  \n",
       "7   135823.934197                             образование  \n",
       "8    95856.832424                   на проведение свадьбы  \n",
       "9   144425.938277                 покупка жилья для семьи  \n",
       "10  113943.491460                    покупка недвижимости  \n",
       "11   77069.234271       покупка коммерческой недвижимости  \n",
       "12            NaN                         сыграть свадьбу  \n",
       "13  130458.228857                 приобретение автомобиля  \n",
       "14  165127.911772              покупка жилой недвижимости  \n",
       "15  116820.904450  строительство собственной недвижимости  \n",
       "16  289202.704229                            недвижимость  \n",
       "17   90410.586745              строительство недвижимости  \n",
       "18   56823.777243      на покупку подержанного автомобиля  \n",
       "19  242831.107982            на покупку своего автомобиля  "
      ]
     },
     "execution_count": 3,
     "metadata": {},
     "output_type": "execute_result"
    }
   ],
   "source": [
    "data.head(20)"
   ]
  },
  {
   "cell_type": "markdown",
   "id": "1c12e233",
   "metadata": {
    "deletable": false,
    "id": "1c12e233"
   },
   "source": [
    "**Задание 3. Выведите основную информацию о датафрейме с помощью метода `info()`.**"
   ]
  },
  {
   "cell_type": "code",
   "execution_count": 4,
   "id": "2b757bca",
   "metadata": {
    "deletable": false,
    "id": "2b757bca",
    "outputId": "15376089-8dad-46c9-b520-c05248d43158"
   },
   "outputs": [
    {
     "name": "stdout",
     "output_type": "stream",
     "text": [
      "<class 'pandas.core.frame.DataFrame'>\n",
      "RangeIndex: 21525 entries, 0 to 21524\n",
      "Data columns (total 12 columns):\n",
      " #   Column            Non-Null Count  Dtype  \n",
      "---  ------            --------------  -----  \n",
      " 0   children          21525 non-null  int64  \n",
      " 1   days_employed     19351 non-null  float64\n",
      " 2   dob_years         21525 non-null  int64  \n",
      " 3   education         21525 non-null  object \n",
      " 4   education_id      21525 non-null  int64  \n",
      " 5   family_status     21525 non-null  object \n",
      " 6   family_status_id  21525 non-null  int64  \n",
      " 7   gender            21525 non-null  object \n",
      " 8   income_type       21525 non-null  object \n",
      " 9   debt              21525 non-null  int64  \n",
      " 10  total_income      19351 non-null  float64\n",
      " 11  purpose           21525 non-null  object \n",
      "dtypes: float64(2), int64(5), object(5)\n",
      "memory usage: 2.0+ MB\n"
     ]
    }
   ],
   "source": [
    "data.info()"
   ]
  },
  {
   "cell_type": "markdown",
   "id": "333ec665",
   "metadata": {
    "deletable": false,
    "id": "333ec665"
   },
   "source": [
    "## Предобработка данных"
   ]
  },
  {
   "cell_type": "markdown",
   "id": "02d92d53",
   "metadata": {
    "deletable": false,
    "id": "02d92d53"
   },
   "source": [
    "### Удаление пропусков"
   ]
  },
  {
   "cell_type": "markdown",
   "id": "cd84967c",
   "metadata": {
    "deletable": false,
    "id": "cd84967c"
   },
   "source": [
    "**Задание 4. Выведите количество пропущенных значений для каждого столбца. Используйте комбинацию двух методов.**"
   ]
  },
  {
   "cell_type": "code",
   "execution_count": 5,
   "id": "7f9b2309",
   "metadata": {
    "deletable": false,
    "id": "7f9b2309",
    "outputId": "81f4d817-781c-465c-ed15-91ce4446810d"
   },
   "outputs": [
    {
     "data": {
      "text/plain": [
       "children               0\n",
       "days_employed       2174\n",
       "dob_years              0\n",
       "education              0\n",
       "education_id           0\n",
       "family_status          0\n",
       "family_status_id       0\n",
       "gender                 0\n",
       "income_type            0\n",
       "debt                   0\n",
       "total_income        2174\n",
       "purpose                0\n",
       "dtype: int64"
      ]
     },
     "execution_count": 5,
     "metadata": {},
     "output_type": "execute_result"
    }
   ],
   "source": [
    "data.isna().sum()"
   ]
  },
  {
   "cell_type": "markdown",
   "id": "db86e27b",
   "metadata": {
    "deletable": false,
    "id": "db86e27b"
   },
   "source": [
    "**Задание 5. В двух столбцах есть пропущенные значения. Один из них — `days_employed`. Пропуски в этом столбце вы обработаете на следующем этапе. Другой столбец с пропущенными значениями — `total_income` — хранит данные о доходах. На сумму дохода сильнее всего влияет тип занятости, поэтому заполнить пропуски в этом столбце нужно медианным значением по каждому типу из столбца `income_type`. Например, у человека с типом занятости `сотрудник` пропуск в столбце `total_income` должен быть заполнен медианным доходом среди всех записей с тем же типом.**"
   ]
  },
  {
   "cell_type": "code",
   "execution_count": 6,
   "id": "42006a93",
   "metadata": {
    "deletable": false,
    "id": "42006a93"
   },
   "outputs": [],
   "source": [
    "for t in data['income_type'].unique():\n",
    "    data.loc[(data['income_type'] == t) & (data['total_income'].isna()), 'total_income'] = \\\n",
    "    data.loc[(data['income_type'] == t), 'total_income'].median()"
   ]
  },
  {
   "cell_type": "markdown",
   "id": "89da5ece",
   "metadata": {
    "deletable": false,
    "id": "89da5ece"
   },
   "source": [
    "### Обработка аномальных значений"
   ]
  },
  {
   "cell_type": "markdown",
   "id": "57964554",
   "metadata": {
    "deletable": false,
    "id": "57964554"
   },
   "source": [
    "**Задание 6. В данных могут встречаться артефакты (аномалии) — значения, которые не отражают действительность и появились по какой-то ошибке. таким артефактом будет отрицательное количество дней трудового стажа в столбце `days_employed`. Для реальных данных это нормально. Обработайте значения в этом столбце: замените все отрицательные значения положительными с помощью метода `abs()`.**"
   ]
  },
  {
   "cell_type": "code",
   "execution_count": 7,
   "id": "f6f055bf",
   "metadata": {
    "deletable": false,
    "id": "f6f055bf"
   },
   "outputs": [],
   "source": [
    "data['days_employed'] = data['days_employed'].abs()"
   ]
  },
  {
   "cell_type": "markdown",
   "id": "6107dd2f",
   "metadata": {
    "deletable": false,
    "id": "6107dd2f"
   },
   "source": [
    "**Задание 7. Для каждого типа занятости выведите медианное значение трудового стажа `days_employed` в днях.**"
   ]
  },
  {
   "cell_type": "code",
   "execution_count": 8,
   "id": "85a5faf6",
   "metadata": {
    "deletable": false,
    "id": "85a5faf6",
    "outputId": "801ef80e-522b-4668-f34e-565af7432bcf"
   },
   "outputs": [
    {
     "data": {
      "text/plain": [
       "income_type\n",
       "безработный        366413.652744\n",
       "в декрете            3296.759962\n",
       "госслужащий          2689.368353\n",
       "компаньон            1547.382223\n",
       "пенсионер          365213.306266\n",
       "предприниматель       520.848083\n",
       "сотрудник            1574.202821\n",
       "студент               578.751554\n",
       "Name: days_employed, dtype: float64"
      ]
     },
     "execution_count": 8,
     "metadata": {},
     "output_type": "execute_result"
    }
   ],
   "source": [
    "data.groupby('income_type')['days_employed'].agg('median')"
   ]
  },
  {
   "cell_type": "markdown",
   "id": "38d1a030",
   "metadata": {
    "deletable": false,
    "id": "38d1a030"
   },
   "source": [
    "У двух типов (безработные и пенсионеры) получатся аномально большие значения. Исправить такие значения сложно, поэтому оставьте их как есть. Тем более этот столбец не понадобится вам для исследования."
   ]
  },
  {
   "cell_type": "markdown",
   "id": "d8a9f147",
   "metadata": {
    "deletable": false,
    "id": "d8a9f147"
   },
   "source": [
    "**Задание 8. Выведите перечень уникальных значений столбца `children`.**"
   ]
  },
  {
   "cell_type": "code",
   "execution_count": 9,
   "id": "ef5056eb",
   "metadata": {
    "deletable": false,
    "id": "ef5056eb",
    "outputId": "6975b15c-7f95-4697-d16d-a0c79b657b03"
   },
   "outputs": [
    {
     "data": {
      "text/plain": [
       "array([ 1,  0,  3,  2, -1,  4, 20,  5])"
      ]
     },
     "execution_count": 9,
     "metadata": {},
     "output_type": "execute_result"
    }
   ],
   "source": [
    "data['children'].unique()"
   ]
  },
  {
   "cell_type": "markdown",
   "id": "40b9ebf2",
   "metadata": {
    "deletable": false,
    "id": "40b9ebf2"
   },
   "source": [
    "**Задание 9. В столбце `children` есть два аномальных значения. Удалите строки, в которых встречаются такие аномальные значения из датафрейма `data`.**"
   ]
  },
  {
   "cell_type": "code",
   "execution_count": 10,
   "id": "3ff9801d",
   "metadata": {
    "deletable": false,
    "id": "3ff9801d"
   },
   "outputs": [],
   "source": [
    "data = data[(data['children'] != -1) & (data['children'] != 20)]"
   ]
  },
  {
   "cell_type": "markdown",
   "id": "bbc4d0ce",
   "metadata": {
    "deletable": false,
    "id": "bbc4d0ce"
   },
   "source": [
    "**Задание 10. Ещё раз выведите перечень уникальных значений столбца `children`, чтобы убедиться, что артефакты удалены.**"
   ]
  },
  {
   "cell_type": "code",
   "execution_count": 11,
   "id": "ad4fa8b7",
   "metadata": {
    "deletable": false,
    "id": "ad4fa8b7",
    "outputId": "b2097101-d49d-44d9-901b-32a65c9463d1"
   },
   "outputs": [
    {
     "data": {
      "text/plain": [
       "array([1, 0, 3, 2, 4, 5])"
      ]
     },
     "execution_count": 11,
     "metadata": {},
     "output_type": "execute_result"
    }
   ],
   "source": [
    "data['children'].unique()"
   ]
  },
  {
   "cell_type": "markdown",
   "id": "75440b63",
   "metadata": {
    "deletable": false,
    "id": "75440b63"
   },
   "source": [
    "### Удаление пропусков (продолжение)"
   ]
  },
  {
   "cell_type": "markdown",
   "id": "f4ea573f",
   "metadata": {
    "deletable": false,
    "id": "f4ea573f"
   },
   "source": [
    "**Задание 11. Заполните пропуски в столбце `days_employed` медианными значениями по каждого типа занятости `income_type`.**"
   ]
  },
  {
   "cell_type": "code",
   "execution_count": 12,
   "id": "af6b1a7e",
   "metadata": {
    "deletable": false,
    "id": "af6b1a7e"
   },
   "outputs": [],
   "source": [
    "for i in data['income_type'].unique():\n",
    "    data.loc[(data['income_type'] == i) & (data['days_employed'].isna()), 'days_employed'] = \\\n",
    "    data.loc[(data['income_type'] == i), 'days_employed'].median()"
   ]
  },
  {
   "cell_type": "markdown",
   "id": "2753f40d",
   "metadata": {
    "deletable": false,
    "id": "2753f40d"
   },
   "source": [
    "**Задание 12. Убедитесь, что все пропуски заполнены. Проверьте себя и ещё раз выведите количество пропущенных значений для каждого столбца с помощью двух методов.**"
   ]
  },
  {
   "cell_type": "code",
   "execution_count": 13,
   "id": "55f78bc2",
   "metadata": {
    "deletable": false,
    "id": "55f78bc2",
    "outputId": "8da1e4e1-358e-4e87-98c9-f261bce0a7b2"
   },
   "outputs": [
    {
     "data": {
      "text/plain": [
       "children            0\n",
       "days_employed       0\n",
       "dob_years           0\n",
       "education           0\n",
       "education_id        0\n",
       "family_status       0\n",
       "family_status_id    0\n",
       "gender              0\n",
       "income_type         0\n",
       "debt                0\n",
       "total_income        0\n",
       "purpose             0\n",
       "dtype: int64"
      ]
     },
     "execution_count": 13,
     "metadata": {},
     "output_type": "execute_result"
    }
   ],
   "source": [
    "data.isna().sum()"
   ]
  },
  {
   "cell_type": "markdown",
   "id": "ddc81e43",
   "metadata": {
    "deletable": false,
    "id": "ddc81e43"
   },
   "source": [
    "### Изменение типов данных"
   ]
  },
  {
   "cell_type": "markdown",
   "id": "42d19d24",
   "metadata": {
    "deletable": false,
    "id": "42d19d24"
   },
   "source": [
    "**Задание 13. Замените вещественный тип данных в столбце `total_income` на целочисленный с помощью метода `astype()`.**"
   ]
  },
  {
   "cell_type": "code",
   "execution_count": 14,
   "id": "920b65ad",
   "metadata": {
    "deletable": false,
    "id": "920b65ad"
   },
   "outputs": [],
   "source": [
    "data['total_income'] = data['total_income'].astype(int)"
   ]
  },
  {
   "cell_type": "markdown",
   "id": "80c420ba",
   "metadata": {
    "deletable": false,
    "id": "80c420ba"
   },
   "source": [
    "### Обработка дубликатов"
   ]
  },
  {
   "cell_type": "markdown",
   "id": "dc587695",
   "metadata": {
    "deletable": false,
    "id": "dc587695"
   },
   "source": [
    "**Задание 14. Выведите на экран количество строк-дубликатов в данных. Если такие строки присутствуют, удалите их.**"
   ]
  },
  {
   "cell_type": "code",
   "execution_count": 15,
   "id": "3ee445e4",
   "metadata": {
    "deletable": false,
    "id": "3ee445e4",
    "outputId": "9684deba-1934-42d1-99e1-cda61740f822"
   },
   "outputs": [
    {
     "data": {
      "text/plain": [
       "54"
      ]
     },
     "execution_count": 15,
     "metadata": {},
     "output_type": "execute_result"
    }
   ],
   "source": [
    "data.duplicated().sum()"
   ]
  },
  {
   "cell_type": "code",
   "execution_count": 16,
   "id": "8575fe05",
   "metadata": {
    "deletable": false,
    "id": "8575fe05"
   },
   "outputs": [],
   "source": [
    "data = data.drop_duplicates()"
   ]
  },
  {
   "cell_type": "markdown",
   "id": "9771a76c",
   "metadata": {
    "deletable": false,
    "id": "9771a76c"
   },
   "source": [
    "**Задание 15. Обработайте неявные дубликаты в столбце `education`. В этом столбце есть одни и те же значения, но записанные по-разному: с использованием заглавных и строчных букв. Приведите их к нижнему регистру. Проверьте остальные столбцы.**"
   ]
  },
  {
   "cell_type": "code",
   "execution_count": 17,
   "id": "a9f8e2bf",
   "metadata": {
    "deletable": false,
    "id": "a9f8e2bf"
   },
   "outputs": [],
   "source": [
    "data['education'] = data['education'].str.lower()"
   ]
  },
  {
   "cell_type": "markdown",
   "id": "9904cf55",
   "metadata": {
    "deletable": false,
    "id": "9904cf55"
   },
   "source": [
    "### Категоризация данных"
   ]
  },
  {
   "cell_type": "markdown",
   "id": "72fcc8a2",
   "metadata": {
    "deletable": false,
    "id": "72fcc8a2"
   },
   "source": [
    "**Задание 16. На основании диапазонов, указанных ниже, создайте в датафрейме `data` столбец `total_income_category` с категориями:**\n",
    "\n",
    "- 0–30000 — `'E'`;\n",
    "- 30001–50000 — `'D'`;\n",
    "- 50001–200000 — `'C'`;\n",
    "- 200001–1000000 — `'B'`;\n",
    "- 1000001 и выше — `'A'`.\n",
    "\n",
    "\n",
    "**Например, кредитополучателю с доходом 25000 нужно назначить категорию `'E'`, а клиенту, получающему 235000, — `'B'`. Используйте собственную функцию с именем `categorize_income()` и метод `apply()`.**"
   ]
  },
  {
   "cell_type": "code",
   "execution_count": 18,
   "id": "e1771346",
   "metadata": {
    "deletable": false,
    "id": "e1771346"
   },
   "outputs": [],
   "source": [
    "def categorize_income(income):\n",
    "    try:\n",
    "        if 0 <= income <= 30000:\n",
    "            return 'E'\n",
    "        elif 30001 <= income <= 50000:\n",
    "            return 'D'\n",
    "        elif 50001 <= income <= 200000:\n",
    "            return 'C'\n",
    "        elif 200001 <= income <= 1000000:\n",
    "            return 'B'\n",
    "        elif income >= 1000001:\n",
    "            return 'A'\n",
    "    except:\n",
    "        pass"
   ]
  },
  {
   "cell_type": "code",
   "execution_count": 19,
   "id": "d5f3586d",
   "metadata": {
    "deletable": false,
    "id": "d5f3586d"
   },
   "outputs": [],
   "source": [
    "data['total_income_category'] = data['total_income'].apply(categorize_income)"
   ]
  },
  {
   "cell_type": "markdown",
   "id": "dde49b5c",
   "metadata": {
    "deletable": false,
    "id": "dde49b5c"
   },
   "source": [
    "**Задание 17. Выведите на экран перечень уникальных целей взятия кредита из столбца `purpose`.**"
   ]
  },
  {
   "cell_type": "code",
   "execution_count": 20,
   "id": "f67ce9b3",
   "metadata": {
    "deletable": false,
    "id": "f67ce9b3",
    "outputId": "673c12d9-7d7e-4ae0-9812-c622c89dd244"
   },
   "outputs": [
    {
     "data": {
      "text/plain": [
       "array(['покупка жилья', 'приобретение автомобиля',\n",
       "       'дополнительное образование', 'сыграть свадьбу',\n",
       "       'операции с жильем', 'образование', 'на проведение свадьбы',\n",
       "       'покупка жилья для семьи', 'покупка недвижимости',\n",
       "       'покупка коммерческой недвижимости', 'покупка жилой недвижимости',\n",
       "       'строительство собственной недвижимости', 'недвижимость',\n",
       "       'строительство недвижимости', 'на покупку подержанного автомобиля',\n",
       "       'на покупку своего автомобиля',\n",
       "       'операции с коммерческой недвижимостью',\n",
       "       'строительство жилой недвижимости', 'жилье',\n",
       "       'операции со своей недвижимостью', 'автомобили',\n",
       "       'заняться образованием', 'сделка с подержанным автомобилем',\n",
       "       'получение образования', 'автомобиль', 'свадьба',\n",
       "       'получение дополнительного образования', 'покупка своего жилья',\n",
       "       'операции с недвижимостью', 'получение высшего образования',\n",
       "       'свой автомобиль', 'сделка с автомобилем',\n",
       "       'профильное образование', 'высшее образование',\n",
       "       'покупка жилья для сдачи', 'на покупку автомобиля', 'ремонт жилью',\n",
       "       'заняться высшим образованием'], dtype=object)"
      ]
     },
     "execution_count": 20,
     "metadata": {},
     "output_type": "execute_result"
    }
   ],
   "source": [
    "data['purpose'].unique()"
   ]
  },
  {
   "cell_type": "markdown",
   "id": "85d0aef0",
   "metadata": {
    "deletable": false,
    "id": "85d0aef0"
   },
   "source": [
    "**Задание 18. Создайте функцию, которая на основании данных из столбца `purpose` сформирует новый столбец `purpose_category`, в который войдут следующие категории:**\n",
    "\n",
    "- `'операции с автомобилем'`,\n",
    "- `'операции с недвижимостью'`,\n",
    "- `'проведение свадьбы'`,\n",
    "- `'получение образования'`.\n",
    "\n",
    "**Например, если в столбце `purpose` находится подстрока `'на покупку автомобиля'`, то в столбце `purpose_category` должна появиться строка `'операции с автомобилем'`.**\n",
    "\n",
    "**Используйте собственную функцию с именем `categorize_purpose()` и метод `apply()`. Изучите данные в столбце `purpose` и определите, какие подстроки помогут вам правильно определить категорию.**"
   ]
  },
  {
   "cell_type": "code",
   "execution_count": 21,
   "id": "e149fab4",
   "metadata": {
    "deletable": false,
    "id": "e149fab4"
   },
   "outputs": [],
   "source": [
    "def categorize_purpose(row):\n",
    "    try:\n",
    "        if 'автом' in row:\n",
    "            return 'операции с автомобилем'\n",
    "        elif 'жил' in row or 'недвиж' in row:\n",
    "            return 'операции с недвижимостью'\n",
    "        elif 'свад' in row:\n",
    "            return 'проведение свадьбы'\n",
    "        elif 'образов' in row:\n",
    "            return 'получение образования'\n",
    "    except:\n",
    "        return 'нет категории'"
   ]
  },
  {
   "cell_type": "code",
   "execution_count": 22,
   "id": "bf36e69b",
   "metadata": {
    "deletable": false,
    "id": "bf36e69b"
   },
   "outputs": [],
   "source": [
    "data['purpose_category'] = data['purpose'].apply(categorize_purpose)"
   ]
  },
  {
   "cell_type": "markdown",
   "id": "09b242bf",
   "metadata": {
    "deletable": false,
    "editable": false,
    "id": "09b242bf"
   },
   "source": [
    "## Исследуйте данные и ответьте на вопросы"
   ]
  },
  {
   "cell_type": "markdown",
   "id": "e290e860",
   "metadata": {},
   "source": [
    "<div class=\"alert alert-danger\">\n",
    "<b>Комментарий ревьюера ❌:</b> К сожалению, код в заданиях 19-22 не очень нагляден для должного ответа на вопросы. Давай немного помогу, здесь в каждом из ответов на вопросы при помощи пивот необходимо собрать табличку, в которой будет количество кредитополучателей, количество должников и доля должников. Поправь пожалуйста этот момент и я смогу полноценно оценить твои ответы на вопросы)"
   ]
  },
  {
   "cell_type": "markdown",
   "id": "c5d66278",
   "metadata": {
    "deletable": false,
    "editable": false,
    "id": "c5d66278"
   },
   "source": [
    "**Задание 19. Есть ли зависимость между количеством детей и возвратом кредита в срок?**"
   ]
  },
  {
   "cell_type": "code",
   "execution_count": 23,
   "id": "2cacfc4a",
   "metadata": {
    "id": "2cacfc4a"
   },
   "outputs": [
    {
     "data": {
      "text/html": [
       "<div>\n",
       "<style scoped>\n",
       "    .dataframe tbody tr th:only-of-type {\n",
       "        vertical-align: middle;\n",
       "    }\n",
       "\n",
       "    .dataframe tbody tr th {\n",
       "        vertical-align: top;\n",
       "    }\n",
       "\n",
       "    .dataframe thead th {\n",
       "        text-align: right;\n",
       "    }\n",
       "</style>\n",
       "<table border=\"1\" class=\"dataframe\">\n",
       "  <thead>\n",
       "    <tr style=\"text-align: right;\">\n",
       "      <th></th>\n",
       "      <th>children</th>\n",
       "      <th>days_employed</th>\n",
       "      <th>dob_years</th>\n",
       "      <th>education</th>\n",
       "      <th>education_id</th>\n",
       "      <th>family_status</th>\n",
       "      <th>family_status_id</th>\n",
       "      <th>gender</th>\n",
       "      <th>income_type</th>\n",
       "      <th>debt</th>\n",
       "      <th>total_income</th>\n",
       "      <th>purpose</th>\n",
       "      <th>total_income_category</th>\n",
       "      <th>purpose_category</th>\n",
       "    </tr>\n",
       "  </thead>\n",
       "  <tbody>\n",
       "    <tr>\n",
       "      <th>0</th>\n",
       "      <td>1</td>\n",
       "      <td>8437.673028</td>\n",
       "      <td>42</td>\n",
       "      <td>высшее</td>\n",
       "      <td>0</td>\n",
       "      <td>женат / замужем</td>\n",
       "      <td>0</td>\n",
       "      <td>F</td>\n",
       "      <td>сотрудник</td>\n",
       "      <td>0</td>\n",
       "      <td>253875</td>\n",
       "      <td>покупка жилья</td>\n",
       "      <td>B</td>\n",
       "      <td>операции с недвижимостью</td>\n",
       "    </tr>\n",
       "    <tr>\n",
       "      <th>1</th>\n",
       "      <td>1</td>\n",
       "      <td>4024.803754</td>\n",
       "      <td>36</td>\n",
       "      <td>среднее</td>\n",
       "      <td>1</td>\n",
       "      <td>женат / замужем</td>\n",
       "      <td>0</td>\n",
       "      <td>F</td>\n",
       "      <td>сотрудник</td>\n",
       "      <td>0</td>\n",
       "      <td>112080</td>\n",
       "      <td>приобретение автомобиля</td>\n",
       "      <td>C</td>\n",
       "      <td>операции с автомобилем</td>\n",
       "    </tr>\n",
       "    <tr>\n",
       "      <th>2</th>\n",
       "      <td>0</td>\n",
       "      <td>5623.422610</td>\n",
       "      <td>33</td>\n",
       "      <td>среднее</td>\n",
       "      <td>1</td>\n",
       "      <td>женат / замужем</td>\n",
       "      <td>0</td>\n",
       "      <td>M</td>\n",
       "      <td>сотрудник</td>\n",
       "      <td>0</td>\n",
       "      <td>145885</td>\n",
       "      <td>покупка жилья</td>\n",
       "      <td>C</td>\n",
       "      <td>операции с недвижимостью</td>\n",
       "    </tr>\n",
       "    <tr>\n",
       "      <th>3</th>\n",
       "      <td>3</td>\n",
       "      <td>4124.747207</td>\n",
       "      <td>32</td>\n",
       "      <td>среднее</td>\n",
       "      <td>1</td>\n",
       "      <td>женат / замужем</td>\n",
       "      <td>0</td>\n",
       "      <td>M</td>\n",
       "      <td>сотрудник</td>\n",
       "      <td>0</td>\n",
       "      <td>267628</td>\n",
       "      <td>дополнительное образование</td>\n",
       "      <td>B</td>\n",
       "      <td>получение образования</td>\n",
       "    </tr>\n",
       "    <tr>\n",
       "      <th>4</th>\n",
       "      <td>0</td>\n",
       "      <td>340266.072047</td>\n",
       "      <td>53</td>\n",
       "      <td>среднее</td>\n",
       "      <td>1</td>\n",
       "      <td>гражданский брак</td>\n",
       "      <td>1</td>\n",
       "      <td>F</td>\n",
       "      <td>пенсионер</td>\n",
       "      <td>0</td>\n",
       "      <td>158616</td>\n",
       "      <td>сыграть свадьбу</td>\n",
       "      <td>C</td>\n",
       "      <td>проведение свадьбы</td>\n",
       "    </tr>\n",
       "    <tr>\n",
       "      <th>...</th>\n",
       "      <td>...</td>\n",
       "      <td>...</td>\n",
       "      <td>...</td>\n",
       "      <td>...</td>\n",
       "      <td>...</td>\n",
       "      <td>...</td>\n",
       "      <td>...</td>\n",
       "      <td>...</td>\n",
       "      <td>...</td>\n",
       "      <td>...</td>\n",
       "      <td>...</td>\n",
       "      <td>...</td>\n",
       "      <td>...</td>\n",
       "      <td>...</td>\n",
       "    </tr>\n",
       "    <tr>\n",
       "      <th>21520</th>\n",
       "      <td>1</td>\n",
       "      <td>4529.316663</td>\n",
       "      <td>43</td>\n",
       "      <td>среднее</td>\n",
       "      <td>1</td>\n",
       "      <td>гражданский брак</td>\n",
       "      <td>1</td>\n",
       "      <td>F</td>\n",
       "      <td>компаньон</td>\n",
       "      <td>0</td>\n",
       "      <td>224791</td>\n",
       "      <td>операции с жильем</td>\n",
       "      <td>B</td>\n",
       "      <td>операции с недвижимостью</td>\n",
       "    </tr>\n",
       "    <tr>\n",
       "      <th>21521</th>\n",
       "      <td>0</td>\n",
       "      <td>343937.404131</td>\n",
       "      <td>67</td>\n",
       "      <td>среднее</td>\n",
       "      <td>1</td>\n",
       "      <td>женат / замужем</td>\n",
       "      <td>0</td>\n",
       "      <td>F</td>\n",
       "      <td>пенсионер</td>\n",
       "      <td>0</td>\n",
       "      <td>155999</td>\n",
       "      <td>сделка с автомобилем</td>\n",
       "      <td>C</td>\n",
       "      <td>операции с автомобилем</td>\n",
       "    </tr>\n",
       "    <tr>\n",
       "      <th>21522</th>\n",
       "      <td>1</td>\n",
       "      <td>2113.346888</td>\n",
       "      <td>38</td>\n",
       "      <td>среднее</td>\n",
       "      <td>1</td>\n",
       "      <td>гражданский брак</td>\n",
       "      <td>1</td>\n",
       "      <td>M</td>\n",
       "      <td>сотрудник</td>\n",
       "      <td>1</td>\n",
       "      <td>89672</td>\n",
       "      <td>недвижимость</td>\n",
       "      <td>C</td>\n",
       "      <td>операции с недвижимостью</td>\n",
       "    </tr>\n",
       "    <tr>\n",
       "      <th>21523</th>\n",
       "      <td>3</td>\n",
       "      <td>3112.481705</td>\n",
       "      <td>38</td>\n",
       "      <td>среднее</td>\n",
       "      <td>1</td>\n",
       "      <td>женат / замужем</td>\n",
       "      <td>0</td>\n",
       "      <td>M</td>\n",
       "      <td>сотрудник</td>\n",
       "      <td>1</td>\n",
       "      <td>244093</td>\n",
       "      <td>на покупку своего автомобиля</td>\n",
       "      <td>B</td>\n",
       "      <td>операции с автомобилем</td>\n",
       "    </tr>\n",
       "    <tr>\n",
       "      <th>21524</th>\n",
       "      <td>2</td>\n",
       "      <td>1984.507589</td>\n",
       "      <td>40</td>\n",
       "      <td>среднее</td>\n",
       "      <td>1</td>\n",
       "      <td>женат / замужем</td>\n",
       "      <td>0</td>\n",
       "      <td>F</td>\n",
       "      <td>сотрудник</td>\n",
       "      <td>0</td>\n",
       "      <td>82047</td>\n",
       "      <td>на покупку автомобиля</td>\n",
       "      <td>C</td>\n",
       "      <td>операции с автомобилем</td>\n",
       "    </tr>\n",
       "  </tbody>\n",
       "</table>\n",
       "<p>21348 rows × 14 columns</p>\n",
       "</div>"
      ],
      "text/plain": [
       "       children  days_employed  dob_years education  education_id  \\\n",
       "0             1    8437.673028         42    высшее             0   \n",
       "1             1    4024.803754         36   среднее             1   \n",
       "2             0    5623.422610         33   среднее             1   \n",
       "3             3    4124.747207         32   среднее             1   \n",
       "4             0  340266.072047         53   среднее             1   \n",
       "...         ...            ...        ...       ...           ...   \n",
       "21520         1    4529.316663         43   среднее             1   \n",
       "21521         0  343937.404131         67   среднее             1   \n",
       "21522         1    2113.346888         38   среднее             1   \n",
       "21523         3    3112.481705         38   среднее             1   \n",
       "21524         2    1984.507589         40   среднее             1   \n",
       "\n",
       "          family_status  family_status_id gender income_type  debt  \\\n",
       "0       женат / замужем                 0      F   сотрудник     0   \n",
       "1       женат / замужем                 0      F   сотрудник     0   \n",
       "2       женат / замужем                 0      M   сотрудник     0   \n",
       "3       женат / замужем                 0      M   сотрудник     0   \n",
       "4      гражданский брак                 1      F   пенсионер     0   \n",
       "...                 ...               ...    ...         ...   ...   \n",
       "21520  гражданский брак                 1      F   компаньон     0   \n",
       "21521   женат / замужем                 0      F   пенсионер     0   \n",
       "21522  гражданский брак                 1      M   сотрудник     1   \n",
       "21523   женат / замужем                 0      M   сотрудник     1   \n",
       "21524   женат / замужем                 0      F   сотрудник     0   \n",
       "\n",
       "       total_income                       purpose total_income_category  \\\n",
       "0            253875                 покупка жилья                     B   \n",
       "1            112080       приобретение автомобиля                     C   \n",
       "2            145885                 покупка жилья                     C   \n",
       "3            267628    дополнительное образование                     B   \n",
       "4            158616               сыграть свадьбу                     C   \n",
       "...             ...                           ...                   ...   \n",
       "21520        224791             операции с жильем                     B   \n",
       "21521        155999          сделка с автомобилем                     C   \n",
       "21522         89672                  недвижимость                     C   \n",
       "21523        244093  на покупку своего автомобиля                     B   \n",
       "21524         82047         на покупку автомобиля                     C   \n",
       "\n",
       "               purpose_category  \n",
       "0      операции с недвижимостью  \n",
       "1        операции с автомобилем  \n",
       "2      операции с недвижимостью  \n",
       "3         получение образования  \n",
       "4            проведение свадьбы  \n",
       "...                         ...  \n",
       "21520  операции с недвижимостью  \n",
       "21521    операции с автомобилем  \n",
       "21522  операции с недвижимостью  \n",
       "21523    операции с автомобилем  \n",
       "21524    операции с автомобилем  \n",
       "\n",
       "[21348 rows x 14 columns]"
      ]
     },
     "metadata": {},
     "output_type": "display_data"
    }
   ],
   "source": [
    "display(data)"
   ]
  },
  {
   "cell_type": "code",
   "execution_count": 24,
   "id": "37720695",
   "metadata": {},
   "outputs": [],
   "source": [
    "data_pivot = data.pivot_table(index=['children'],values='debt', aggfunc='sum')"
   ]
  },
  {
   "cell_type": "code",
   "execution_count": 25,
   "id": "cc01b045",
   "metadata": {},
   "outputs": [
    {
     "name": "stdout",
     "output_type": "stream",
     "text": [
      "          debt\n",
      "children      \n",
      "0         1063\n",
      "1          444\n",
      "2          194\n",
      "3           27\n",
      "4            4\n",
      "5            0\n"
     ]
    }
   ],
   "source": [
    "print(data_pivot)"
   ]
  },
  {
   "cell_type": "code",
   "execution_count": 80,
   "id": "d931a310",
   "metadata": {},
   "outputs": [],
   "source": [
    "non_payed = data['debt'].sum()\n"
   ]
  },
  {
   "cell_type": "code",
   "execution_count": null,
   "id": "b33a5d1b",
   "metadata": {},
   "outputs": [],
   "source": []
  },
  {
   "cell_type": "code",
   "execution_count": 81,
   "id": "17f60d14",
   "metadata": {},
   "outputs": [],
   "source": [
    "data_pivot['share_non_payers'] =  data_pivot['debt'] / non_payed\n",
    "data_pivot['share_non_payers'] = data_pivot['share_non_payers'].mul(100).round(2).astype(str).add(' %')"
   ]
  },
  {
   "cell_type": "code",
   "execution_count": 69,
   "id": "a5a143c9",
   "metadata": {},
   "outputs": [
    {
     "data": {
      "text/html": [
       "<div>\n",
       "<style scoped>\n",
       "    .dataframe tbody tr th:only-of-type {\n",
       "        vertical-align: middle;\n",
       "    }\n",
       "\n",
       "    .dataframe tbody tr th {\n",
       "        vertical-align: top;\n",
       "    }\n",
       "\n",
       "    .dataframe thead th {\n",
       "        text-align: right;\n",
       "    }\n",
       "</style>\n",
       "<table border=\"1\" class=\"dataframe\">\n",
       "  <thead>\n",
       "    <tr style=\"text-align: right;\">\n",
       "      <th></th>\n",
       "      <th>debt</th>\n",
       "      <th>share_non_payers</th>\n",
       "    </tr>\n",
       "    <tr>\n",
       "      <th>children</th>\n",
       "      <th></th>\n",
       "      <th></th>\n",
       "    </tr>\n",
       "  </thead>\n",
       "  <tbody>\n",
       "    <tr>\n",
       "      <th>0</th>\n",
       "      <td>1063</td>\n",
       "      <td>61.37 %</td>\n",
       "    </tr>\n",
       "    <tr>\n",
       "      <th>1</th>\n",
       "      <td>444</td>\n",
       "      <td>25.64 %</td>\n",
       "    </tr>\n",
       "    <tr>\n",
       "      <th>2</th>\n",
       "      <td>194</td>\n",
       "      <td>11.2 %</td>\n",
       "    </tr>\n",
       "    <tr>\n",
       "      <th>3</th>\n",
       "      <td>27</td>\n",
       "      <td>1.56 %</td>\n",
       "    </tr>\n",
       "    <tr>\n",
       "      <th>4</th>\n",
       "      <td>4</td>\n",
       "      <td>0.23 %</td>\n",
       "    </tr>\n",
       "    <tr>\n",
       "      <th>5</th>\n",
       "      <td>0</td>\n",
       "      <td>0.0 %</td>\n",
       "    </tr>\n",
       "  </tbody>\n",
       "</table>\n",
       "</div>"
      ],
      "text/plain": [
       "          debt share_non_payers\n",
       "children                       \n",
       "0         1063          61.37 %\n",
       "1          444          25.64 %\n",
       "2          194           11.2 %\n",
       "3           27           1.56 %\n",
       "4            4           0.23 %\n",
       "5            0            0.0 %"
      ]
     },
     "metadata": {},
     "output_type": "display_data"
    }
   ],
   "source": [
    "display(data_pivot)"
   ]
  },
  {
   "cell_type": "markdown",
   "id": "3a6b99ec",
   "metadata": {
    "deletable": false,
    "id": "3a6b99ec"
   },
   "source": [
    "**Вывод:** Сумма просрочки снижается пропорционально увеличению детей. "
   ]
  },
  {
   "cell_type": "markdown",
   "id": "390a86fa",
   "metadata": {},
   "source": [
    "<div class=\"alert alert-success\">\n",
    "<b>Комментарий ревьюера v 2.0 ✔️:</b> Так нагляднее, зависимость здесь и правда достаточно линейная"
   ]
  },
  {
   "cell_type": "markdown",
   "id": "97be82ca",
   "metadata": {
    "deletable": false,
    "editable": false,
    "id": "97be82ca"
   },
   "source": [
    "**Задание 20. Есть ли зависимость между семейным положением и возвратом кредита в срок?**"
   ]
  },
  {
   "cell_type": "code",
   "execution_count": 77,
   "id": "dc3f7ee8",
   "metadata": {
    "id": "dc3f7ee8"
   },
   "outputs": [
    {
     "data": {
      "text/html": [
       "<div>\n",
       "<style scoped>\n",
       "    .dataframe tbody tr th:only-of-type {\n",
       "        vertical-align: middle;\n",
       "    }\n",
       "\n",
       "    .dataframe tbody tr th {\n",
       "        vertical-align: top;\n",
       "    }\n",
       "\n",
       "    .dataframe thead th {\n",
       "        text-align: right;\n",
       "    }\n",
       "</style>\n",
       "<table border=\"1\" class=\"dataframe\">\n",
       "  <thead>\n",
       "    <tr style=\"text-align: right;\">\n",
       "      <th></th>\n",
       "      <th>debt</th>\n",
       "      <th>share_non_payers</th>\n",
       "    </tr>\n",
       "    <tr>\n",
       "      <th>family_status</th>\n",
       "      <th></th>\n",
       "      <th></th>\n",
       "    </tr>\n",
       "  </thead>\n",
       "  <tbody>\n",
       "    <tr>\n",
       "      <th>Не женат / не замужем</th>\n",
       "      <td>273</td>\n",
       "      <td>15.76 %</td>\n",
       "    </tr>\n",
       "    <tr>\n",
       "      <th>в разводе</th>\n",
       "      <td>84</td>\n",
       "      <td>4.85 %</td>\n",
       "    </tr>\n",
       "    <tr>\n",
       "      <th>вдовец / вдова</th>\n",
       "      <td>63</td>\n",
       "      <td>3.64 %</td>\n",
       "    </tr>\n",
       "    <tr>\n",
       "      <th>гражданский брак</th>\n",
       "      <td>385</td>\n",
       "      <td>22.23 %</td>\n",
       "    </tr>\n",
       "    <tr>\n",
       "      <th>женат / замужем</th>\n",
       "      <td>927</td>\n",
       "      <td>53.52 %</td>\n",
       "    </tr>\n",
       "  </tbody>\n",
       "</table>\n",
       "</div>"
      ],
      "text/plain": [
       "                       debt share_non_payers\n",
       "family_status                               \n",
       "Не женат / не замужем   273          15.76 %\n",
       "в разводе                84           4.85 %\n",
       "вдовец / вдова           63           3.64 %\n",
       "гражданский брак        385          22.23 %\n",
       "женат / замужем         927          53.52 %"
      ]
     },
     "metadata": {},
     "output_type": "display_data"
    }
   ],
   "source": [
    "data_pivot = data.pivot_table(index=['family_status'],values='debt', aggfunc='sum')# Ваш код будет здесь. Вы можете создавать новые ячейки.\n",
    "non_payed = data_pivot['debt'].sum()\n",
    "data_pivot['share_non_payers'] =  data_pivot['debt'] / non_payed\n",
    "data_pivot['share_non_payers'] = data_pivot['share_non_payers'].mul(100).round(2).astype(str).add(' %')\n",
    "display(data_pivot)    "
   ]
  },
  {
   "cell_type": "markdown",
   "id": "1cef7837",
   "metadata": {
    "deletable": false,
    "id": "1cef7837"
   },
   "source": [
    "**Вывод:**  Люди без второй половинки чаще закрывают кредит в срок."
   ]
  },
  {
   "cell_type": "markdown",
   "id": "2c85187e",
   "metadata": {},
   "source": [
    "<div class=\"alert alert-success\">\n",
    "<b>Комментарий ревьюера v 2.0 ✔️:</b> И правда, все так"
   ]
  },
  {
   "cell_type": "markdown",
   "id": "1e8b2fca",
   "metadata": {
    "deletable": false,
    "editable": false,
    "id": "1e8b2fca"
   },
   "source": [
    "**Задание 21. Есть ли зависимость между уровнем дохода и возвратом кредита в срок?**"
   ]
  },
  {
   "cell_type": "code",
   "execution_count": 78,
   "id": "cd7e3720",
   "metadata": {
    "id": "cd7e3720"
   },
   "outputs": [
    {
     "data": {
      "text/html": [
       "<div>\n",
       "<style scoped>\n",
       "    .dataframe tbody tr th:only-of-type {\n",
       "        vertical-align: middle;\n",
       "    }\n",
       "\n",
       "    .dataframe tbody tr th {\n",
       "        vertical-align: top;\n",
       "    }\n",
       "\n",
       "    .dataframe thead th {\n",
       "        text-align: right;\n",
       "    }\n",
       "</style>\n",
       "<table border=\"1\" class=\"dataframe\">\n",
       "  <thead>\n",
       "    <tr style=\"text-align: right;\">\n",
       "      <th></th>\n",
       "      <th>debt</th>\n",
       "      <th>share_non_payers</th>\n",
       "    </tr>\n",
       "    <tr>\n",
       "      <th>total_income_category</th>\n",
       "      <th></th>\n",
       "      <th></th>\n",
       "    </tr>\n",
       "  </thead>\n",
       "  <tbody>\n",
       "    <tr>\n",
       "      <th>A</th>\n",
       "      <td>2</td>\n",
       "      <td>0.12 %</td>\n",
       "    </tr>\n",
       "    <tr>\n",
       "      <th>B</th>\n",
       "      <td>354</td>\n",
       "      <td>20.44 %</td>\n",
       "    </tr>\n",
       "    <tr>\n",
       "      <th>C</th>\n",
       "      <td>1353</td>\n",
       "      <td>78.12 %</td>\n",
       "    </tr>\n",
       "    <tr>\n",
       "      <th>D</th>\n",
       "      <td>21</td>\n",
       "      <td>1.21 %</td>\n",
       "    </tr>\n",
       "    <tr>\n",
       "      <th>E</th>\n",
       "      <td>2</td>\n",
       "      <td>0.12 %</td>\n",
       "    </tr>\n",
       "  </tbody>\n",
       "</table>\n",
       "</div>"
      ],
      "text/plain": [
       "                       debt share_non_payers\n",
       "total_income_category                       \n",
       "A                         2           0.12 %\n",
       "B                       354          20.44 %\n",
       "C                      1353          78.12 %\n",
       "D                        21           1.21 %\n",
       "E                         2           0.12 %"
      ]
     },
     "metadata": {},
     "output_type": "display_data"
    }
   ],
   "source": [
    "data_pivot = data.pivot_table(index=['total_income_category'],values='debt', aggfunc='sum')# Ваш код будет здесь. Вы можете создавать новые ячейки.\n",
    "non_payed = data_pivot['debt'].sum()\n",
    "data_pivot['share_non_payers'] =  data_pivot['debt'] / non_payed\n",
    "data_pivot['share_non_payers'] = data_pivot['share_non_payers'].mul(100).round(2).astype(str).add(' %')\n",
    "display(data_pivot)    "
   ]
  },
  {
   "cell_type": "markdown",
   "id": "e8593def",
   "metadata": {
    "deletable": false,
    "id": "e8593def"
   },
   "source": [
    "**Вывод:** В категории среднего дохода больше всего просрочек.\n"
   ]
  },
  {
   "cell_type": "markdown",
   "id": "fa7ee4b3",
   "metadata": {},
   "source": [
    "<div class=\"alert alert-success\">\n",
    "<b>Комментарий ревьюера v 2.0 ✔️:</b> Хорошо замечано, еще тут неплохо было бы отметить, что данные в некоторых категориях н7е совсем репрезентативны"
   ]
  },
  {
   "cell_type": "markdown",
   "id": "99ecbd1f",
   "metadata": {
    "deletable": false,
    "editable": false,
    "id": "99ecbd1f"
   },
   "source": [
    "**Задание 22. Как разные цели кредита влияют на его возврат в срок?**"
   ]
  },
  {
   "cell_type": "code",
   "execution_count": 79,
   "id": "2b687290",
   "metadata": {
    "id": "2b687290"
   },
   "outputs": [
    {
     "data": {
      "text/html": [
       "<div>\n",
       "<style scoped>\n",
       "    .dataframe tbody tr th:only-of-type {\n",
       "        vertical-align: middle;\n",
       "    }\n",
       "\n",
       "    .dataframe tbody tr th {\n",
       "        vertical-align: top;\n",
       "    }\n",
       "\n",
       "    .dataframe thead th {\n",
       "        text-align: right;\n",
       "    }\n",
       "</style>\n",
       "<table border=\"1\" class=\"dataframe\">\n",
       "  <thead>\n",
       "    <tr style=\"text-align: right;\">\n",
       "      <th></th>\n",
       "      <th>debt</th>\n",
       "      <th>share_non_payers</th>\n",
       "    </tr>\n",
       "    <tr>\n",
       "      <th>purpose_category</th>\n",
       "      <th></th>\n",
       "      <th></th>\n",
       "    </tr>\n",
       "  </thead>\n",
       "  <tbody>\n",
       "    <tr>\n",
       "      <th>операции с автомобилем</th>\n",
       "      <td>400</td>\n",
       "      <td>23.09 %</td>\n",
       "    </tr>\n",
       "    <tr>\n",
       "      <th>операции с недвижимостью</th>\n",
       "      <td>780</td>\n",
       "      <td>45.03 %</td>\n",
       "    </tr>\n",
       "    <tr>\n",
       "      <th>получение образования</th>\n",
       "      <td>369</td>\n",
       "      <td>21.3 %</td>\n",
       "    </tr>\n",
       "    <tr>\n",
       "      <th>проведение свадьбы</th>\n",
       "      <td>183</td>\n",
       "      <td>10.57 %</td>\n",
       "    </tr>\n",
       "  </tbody>\n",
       "</table>\n",
       "</div>"
      ],
      "text/plain": [
       "                          debt share_non_payers\n",
       "purpose_category                               \n",
       "операции с автомобилем     400          23.09 %\n",
       "операции с недвижимостью   780          45.03 %\n",
       "получение образования      369           21.3 %\n",
       "проведение свадьбы         183          10.57 %"
      ]
     },
     "metadata": {},
     "output_type": "display_data"
    }
   ],
   "source": [
    "data_pivot = data.pivot_table(index=['purpose_category'],values='debt', aggfunc='sum')# Ваш код будет здесь. Вы можете создавать новые ячейки.\n",
    "non_payed = data_pivot['debt'].sum()\n",
    "data_pivot['share_non_payers'] =  data_pivot['debt'] / non_payed\n",
    "data_pivot['share_non_payers'] = data_pivot['share_non_payers'].mul(100).round(2).astype(str).add(' %')\n",
    "display(data_pivot) "
   ]
  },
  {
   "cell_type": "markdown",
   "id": "b4bb2ce6",
   "metadata": {
    "deletable": false,
    "id": "b4bb2ce6"
   },
   "source": [
    "**Вывод:** Самое маленькое число просрочек в категории проведение свадьб "
   ]
  },
  {
   "cell_type": "markdown",
   "id": "16207666",
   "metadata": {},
   "source": [
    "<div class=\"alert alert-success\">\n",
    "<b>Комментарий ревьюера v 2.0 ✔️:</b> Верно"
   ]
  },
  {
   "cell_type": "markdown",
   "id": "09c3ac4c",
   "metadata": {
    "deletable": false,
    "editable": false,
    "id": "09c3ac4c"
   },
   "source": [
    "**Задание 23. Приведите возможные причины появления пропусков в исходных данных.**"
   ]
  },
  {
   "cell_type": "markdown",
   "id": "9da2ceda",
   "metadata": {
    "deletable": false,
    "id": "9da2ceda"
   },
   "source": [
    "*Ответ:* 1) человеческий фактор - информацию не заполнил человек при формировании партфолию. \n",
    "         2) ошибка форматов или не читаемые символы которые были переведены в NaN.\n",
    "         3) конфиденциальность личной информации - некоторые пользователи по своим убеждениям не захотели предоставлять     информацию. "
   ]
  },
  {
   "cell_type": "markdown",
   "id": "99f56d34",
   "metadata": {},
   "source": [
    "<div class=\"alert alert-success\">\n",
    "    \n",
    "<b> Комментарий от ревьюера ✔️</b> Хорошие предположения\n",
    "</div>\n"
   ]
  },
  {
   "cell_type": "markdown",
   "id": "7b0487d6",
   "metadata": {
    "deletable": false,
    "editable": false,
    "id": "7b0487d6"
   },
   "source": [
    "**Задание 24. Объясните, почему заполнить пропуски медианным значением — лучшее решение для количественных переменных.**"
   ]
  },
  {
   "cell_type": "markdown",
   "id": "7ecf2b8e",
   "metadata": {
    "deletable": false,
    "id": "7ecf2b8e"
   },
   "source": [
    "*Ответ:* Так как медианное значение в отличии от среднего отображает число которое является среднем между стандартным значением и аномальными   "
   ]
  },
  {
   "cell_type": "markdown",
   "id": "01b55a9d",
   "metadata": {},
   "source": [
    "<div class=\"alert alert-success\">\n",
    "    \n",
    "<b> Комментарий от ревьюера ✔️</b> На самом деле медиана просто менее чувствительна к аномалиям\n",
    "</div>\n"
   ]
  },
  {
   "cell_type": "markdown",
   "id": "6db5255a",
   "metadata": {
    "deletable": false,
    "editable": false,
    "id": "6db5255a"
   },
   "source": [
    "## Общий вывод."
   ]
  },
  {
   "cell_type": "markdown",
   "id": "bad65432",
   "metadata": {
    "id": "bad65432"
   },
   "source": [
    "В ходе исследования выяснилось , что заемщик с детьми , берущий кредит на свадьбу вернет его с минимальным количеством просроченных платежей, так же в ходе исследовая выяснилось, что такая важная переменная, на первый взгляд, как трудовой стаж не влияет на клиентские выплаты."
   ]
  },
  {
   "cell_type": "markdown",
   "id": "3d789d2f",
   "metadata": {},
   "source": [
    "<div class=\"alert alert-danger\">\n",
    "<b>Комментарий ревьюера ❌:</b> В самом проекте были не только ответы на задания 19-22, а много всего другого, стоит это тоже коротко отразить в выводе"
   ]
  },
  {
   "cell_type": "markdown",
   "id": "4a5596f9",
   "metadata": {},
   "source": [
    "<div class=\"alert alert-success\">\n",
    "<b>Комментарий ревьюера v 2.0 ✔️:</b> Так вывод смотрится лучше"
   ]
  },
  {
   "cell_type": "markdown",
   "id": "3f0a43d0",
   "metadata": {},
   "source": [
    "<div class=\"alert alert-success\">\n",
    "<b>Комментарий ревьюера ✔️:</b> Евгений, проект отличный! У тебя очень сильные аналитические навыки и владение инструментами для проведения исследования. Но всё же в проекте есть буквально пара критических замечаний и я попрошу тебя исправить их, чтобы проект стал еще лучше! </div>"
   ]
  }
 ],
 "metadata": {
  "ExecuteTimeLog": [
   {
    "duration": 45,
    "start_time": "2022-06-14T19:06:47.206Z"
   },
   {
    "duration": 696,
    "start_time": "2022-06-14T19:07:04.405Z"
   },
   {
    "duration": 21,
    "start_time": "2022-06-14T19:07:05.945Z"
   },
   {
    "duration": 14,
    "start_time": "2022-06-14T19:07:06.427Z"
   },
   {
    "duration": 14,
    "start_time": "2022-06-14T19:07:07.404Z"
   },
   {
    "duration": 33,
    "start_time": "2022-06-14T19:07:07.898Z"
   },
   {
    "duration": 6,
    "start_time": "2022-06-14T19:07:08.872Z"
   },
   {
    "duration": 8,
    "start_time": "2022-06-14T19:07:09.347Z"
   },
   {
    "duration": 4,
    "start_time": "2022-06-14T19:07:10.139Z"
   },
   {
    "duration": 8,
    "start_time": "2022-06-14T19:07:10.600Z"
   },
   {
    "duration": 6,
    "start_time": "2022-06-14T19:07:11.131Z"
   },
   {
    "duration": 37,
    "start_time": "2022-06-14T19:07:11.876Z"
   },
   {
    "duration": 11,
    "start_time": "2022-06-14T19:07:12.421Z"
   },
   {
    "duration": 5,
    "start_time": "2022-06-14T19:07:13.155Z"
   },
   {
    "duration": 23,
    "start_time": "2022-06-14T19:07:14.951Z"
   },
   {
    "duration": 22,
    "start_time": "2022-06-14T19:07:15.253Z"
   },
   {
    "duration": 20,
    "start_time": "2022-06-14T19:07:15.739Z"
   },
   {
    "duration": 4,
    "start_time": "2022-06-14T19:07:16.618Z"
   },
   {
    "duration": 10,
    "start_time": "2022-06-14T19:07:16.854Z"
   },
   {
    "duration": 10,
    "start_time": "2022-06-14T19:07:17.365Z"
   },
   {
    "duration": 3,
    "start_time": "2022-06-14T19:07:17.906Z"
   },
   {
    "duration": 8,
    "start_time": "2022-06-14T19:07:18.165Z"
   },
   {
    "duration": 56,
    "start_time": "2022-06-14T19:07:19.035Z"
   },
   {
    "duration": 6,
    "start_time": "2022-06-14T19:07:19.875Z"
   },
   {
    "duration": 6,
    "start_time": "2022-06-14T19:07:31.276Z"
   },
   {
    "duration": 4,
    "start_time": "2022-06-14T19:12:41.700Z"
   },
   {
    "duration": 5,
    "start_time": "2022-06-14T19:12:50.044Z"
   },
   {
    "duration": 5,
    "start_time": "2022-06-14T19:13:25.657Z"
   },
   {
    "duration": 85,
    "start_time": "2022-06-14T19:15:03.343Z"
   },
   {
    "duration": 16,
    "start_time": "2022-06-14T19:15:04.824Z"
   },
   {
    "duration": 14,
    "start_time": "2022-06-14T19:15:05.239Z"
   },
   {
    "duration": 9,
    "start_time": "2022-06-14T19:15:06.500Z"
   },
   {
    "duration": 32,
    "start_time": "2022-06-14T19:15:06.887Z"
   },
   {
    "duration": 4,
    "start_time": "2022-06-14T19:15:07.653Z"
   },
   {
    "duration": 9,
    "start_time": "2022-06-14T19:15:08.158Z"
   },
   {
    "duration": 4,
    "start_time": "2022-06-14T19:15:10.546Z"
   },
   {
    "duration": 6,
    "start_time": "2022-06-14T19:15:11.029Z"
   },
   {
    "duration": 6,
    "start_time": "2022-06-14T19:15:11.570Z"
   },
   {
    "duration": 38,
    "start_time": "2022-06-14T19:15:12.272Z"
   },
   {
    "duration": 10,
    "start_time": "2022-06-14T19:15:12.823Z"
   },
   {
    "duration": 5,
    "start_time": "2022-06-14T19:15:13.584Z"
   },
   {
    "duration": 18,
    "start_time": "2022-06-14T19:15:14.512Z"
   },
   {
    "duration": 16,
    "start_time": "2022-06-14T19:15:14.825Z"
   },
   {
    "duration": 11,
    "start_time": "2022-06-14T19:15:15.751Z"
   },
   {
    "duration": 4,
    "start_time": "2022-06-14T19:15:16.526Z"
   },
   {
    "duration": 9,
    "start_time": "2022-06-14T19:15:16.798Z"
   },
   {
    "duration": 8,
    "start_time": "2022-06-14T19:15:17.373Z"
   },
   {
    "duration": 3,
    "start_time": "2022-06-14T19:15:17.894Z"
   },
   {
    "duration": 14,
    "start_time": "2022-06-14T19:15:18.167Z"
   },
   {
    "duration": 6,
    "start_time": "2022-06-14T19:15:18.998Z"
   },
   {
    "duration": 6,
    "start_time": "2022-06-14T19:15:32.480Z"
   },
   {
    "duration": 1465,
    "start_time": "2022-06-14T19:20:52.593Z"
   },
   {
    "duration": 252,
    "start_time": "2022-06-14T19:23:27.700Z"
   },
   {
    "duration": 422,
    "start_time": "2022-06-14T19:24:18.984Z"
   },
   {
    "duration": 8,
    "start_time": "2022-06-14T19:30:54.409Z"
   },
   {
    "duration": 11,
    "start_time": "2022-06-14T19:32:23.572Z"
   },
   {
    "duration": 44,
    "start_time": "2022-06-14T19:32:54.891Z"
   },
   {
    "duration": 333,
    "start_time": "2022-06-15T05:50:27.852Z"
   },
   {
    "duration": 349,
    "start_time": "2022-06-15T05:51:09.112Z"
   },
   {
    "duration": 457,
    "start_time": "2022-06-15T05:51:26.240Z"
   },
   {
    "duration": 612,
    "start_time": "2022-06-15T05:52:12.918Z"
   },
   {
    "duration": 5,
    "start_time": "2022-06-15T06:02:09.075Z"
   },
   {
    "duration": 80,
    "start_time": "2022-06-15T06:07:07.539Z"
   },
   {
    "duration": 18,
    "start_time": "2022-06-15T06:13:50.101Z"
   },
   {
    "duration": 21,
    "start_time": "2022-06-15T06:13:50.121Z"
   },
   {
    "duration": 0,
    "start_time": "2022-06-15T06:13:50.171Z"
   },
   {
    "duration": 0,
    "start_time": "2022-06-15T06:13:50.173Z"
   },
   {
    "duration": 11,
    "start_time": "2022-06-15T07:00:08.245Z"
   },
   {
    "duration": 10,
    "start_time": "2022-06-15T07:00:36.936Z"
   },
   {
    "duration": 11,
    "start_time": "2022-06-15T07:01:35.203Z"
   },
   {
    "duration": 11,
    "start_time": "2022-06-15T07:01:50.699Z"
   },
   {
    "duration": 74,
    "start_time": "2022-06-15T07:01:58.652Z"
   },
   {
    "duration": 17,
    "start_time": "2022-06-15T07:01:59.268Z"
   },
   {
    "duration": 17,
    "start_time": "2022-06-15T07:01:59.657Z"
   },
   {
    "duration": 11,
    "start_time": "2022-06-15T07:02:00.560Z"
   },
   {
    "duration": 54,
    "start_time": "2022-06-15T07:02:01.295Z"
   },
   {
    "duration": 4,
    "start_time": "2022-06-15T07:02:02.330Z"
   },
   {
    "duration": 11,
    "start_time": "2022-06-15T07:02:03.321Z"
   },
   {
    "duration": 5,
    "start_time": "2022-06-15T07:02:03.940Z"
   },
   {
    "duration": 8,
    "start_time": "2022-06-15T07:02:04.373Z"
   },
   {
    "duration": 5,
    "start_time": "2022-06-15T07:02:04.932Z"
   },
   {
    "duration": 41,
    "start_time": "2022-06-15T07:02:05.724Z"
   },
   {
    "duration": 13,
    "start_time": "2022-06-15T07:02:06.266Z"
   },
   {
    "duration": 5,
    "start_time": "2022-06-15T07:02:07.008Z"
   },
   {
    "duration": 21,
    "start_time": "2022-06-15T07:02:07.776Z"
   },
   {
    "duration": 23,
    "start_time": "2022-06-15T07:02:08.031Z"
   },
   {
    "duration": 17,
    "start_time": "2022-06-15T07:02:08.507Z"
   },
   {
    "duration": 4,
    "start_time": "2022-06-15T07:02:09.267Z"
   },
   {
    "duration": 13,
    "start_time": "2022-06-15T07:02:09.436Z"
   },
   {
    "duration": 9,
    "start_time": "2022-06-15T07:02:09.955Z"
   },
   {
    "duration": 4,
    "start_time": "2022-06-15T07:02:10.392Z"
   },
   {
    "duration": 20,
    "start_time": "2022-06-15T07:02:10.649Z"
   },
   {
    "duration": 410,
    "start_time": "2022-06-15T07:02:11.374Z"
   },
   {
    "duration": 414,
    "start_time": "2022-06-15T07:02:12.237Z"
   },
   {
    "duration": 439,
    "start_time": "2022-06-15T07:02:13.359Z"
   },
   {
    "duration": 10,
    "start_time": "2022-06-15T07:02:15.042Z"
   },
   {
    "duration": 10,
    "start_time": "2022-06-15T07:02:25.328Z"
   },
   {
    "duration": 11,
    "start_time": "2022-06-15T07:03:18.454Z"
   },
   {
    "duration": 11,
    "start_time": "2022-06-15T07:03:47.633Z"
   },
   {
    "duration": 14,
    "start_time": "2022-06-15T07:03:53.713Z"
   },
   {
    "duration": 13,
    "start_time": "2022-06-15T07:04:42.892Z"
   },
   {
    "duration": 10,
    "start_time": "2022-06-15T07:05:04.883Z"
   },
   {
    "duration": 10,
    "start_time": "2022-06-15T07:05:35.586Z"
   },
   {
    "duration": 11,
    "start_time": "2022-06-15T07:05:52.649Z"
   },
   {
    "duration": 10,
    "start_time": "2022-06-15T07:07:17.075Z"
   },
   {
    "duration": 9,
    "start_time": "2022-06-15T07:08:09.621Z"
   },
   {
    "duration": 11,
    "start_time": "2022-06-15T07:12:46.540Z"
   },
   {
    "duration": 13,
    "start_time": "2022-06-15T08:01:56.388Z"
   },
   {
    "duration": 22,
    "start_time": "2022-06-15T08:02:07.255Z"
   },
   {
    "duration": 20,
    "start_time": "2022-06-15T08:03:28.272Z"
   },
   {
    "duration": 74,
    "start_time": "2022-06-15T08:03:33.580Z"
   },
   {
    "duration": 20,
    "start_time": "2022-06-15T08:03:33.976Z"
   },
   {
    "duration": 15,
    "start_time": "2022-06-15T08:03:34.310Z"
   },
   {
    "duration": 11,
    "start_time": "2022-06-15T08:03:35.238Z"
   },
   {
    "duration": 57,
    "start_time": "2022-06-15T08:03:35.545Z"
   },
   {
    "duration": 5,
    "start_time": "2022-06-15T08:03:36.220Z"
   },
   {
    "duration": 11,
    "start_time": "2022-06-15T08:03:36.610Z"
   },
   {
    "duration": 5,
    "start_time": "2022-06-15T08:03:37.248Z"
   },
   {
    "duration": 6,
    "start_time": "2022-06-15T08:03:37.646Z"
   },
   {
    "duration": 5,
    "start_time": "2022-06-15T08:03:38.111Z"
   },
   {
    "duration": 41,
    "start_time": "2022-06-15T08:03:38.724Z"
   },
   {
    "duration": 10,
    "start_time": "2022-06-15T08:03:39.085Z"
   },
   {
    "duration": 5,
    "start_time": "2022-06-15T08:03:39.686Z"
   },
   {
    "duration": 22,
    "start_time": "2022-06-15T08:03:40.390Z"
   },
   {
    "duration": 20,
    "start_time": "2022-06-15T08:03:40.625Z"
   },
   {
    "duration": 14,
    "start_time": "2022-06-15T08:03:41.034Z"
   },
   {
    "duration": 4,
    "start_time": "2022-06-15T08:03:41.636Z"
   },
   {
    "duration": 12,
    "start_time": "2022-06-15T08:03:41.835Z"
   },
   {
    "duration": 28,
    "start_time": "2022-06-15T08:03:42.256Z"
   },
   {
    "duration": 5,
    "start_time": "2022-06-15T08:03:42.685Z"
   },
   {
    "duration": 9,
    "start_time": "2022-06-15T08:03:42.936Z"
   },
   {
    "duration": 524,
    "start_time": "2022-06-15T08:03:43.684Z"
   },
   {
    "duration": 449,
    "start_time": "2022-06-15T08:03:44.438Z"
   },
   {
    "duration": 1450,
    "start_time": "2022-06-15T08:04:43.864Z"
   },
   {
    "duration": 175,
    "start_time": "2022-06-15T08:04:56.433Z"
   },
   {
    "duration": 15,
    "start_time": "2022-06-15T08:05:03.342Z"
   },
   {
    "duration": 412424,
    "start_time": "2022-06-15T08:06:51.218Z"
   },
   {
    "duration": 751,
    "start_time": "2022-06-15T16:19:49.402Z"
   },
   {
    "duration": 27,
    "start_time": "2022-06-15T16:19:50.155Z"
   },
   {
    "duration": 18,
    "start_time": "2022-06-15T16:19:50.184Z"
   },
   {
    "duration": 14,
    "start_time": "2022-06-15T16:19:51.031Z"
   },
   {
    "duration": 63,
    "start_time": "2022-06-15T16:19:51.481Z"
   },
   {
    "duration": 5,
    "start_time": "2022-06-15T16:19:52.541Z"
   },
   {
    "duration": 10,
    "start_time": "2022-06-15T16:19:52.943Z"
   },
   {
    "duration": 6,
    "start_time": "2022-06-15T16:19:53.631Z"
   },
   {
    "duration": 10,
    "start_time": "2022-06-15T16:19:54.103Z"
   },
   {
    "duration": 9,
    "start_time": "2022-06-15T16:19:54.607Z"
   },
   {
    "duration": 34,
    "start_time": "2022-06-15T16:19:55.337Z"
   },
   {
    "duration": 11,
    "start_time": "2022-06-15T16:19:55.830Z"
   },
   {
    "duration": 6,
    "start_time": "2022-06-15T16:19:56.575Z"
   },
   {
    "duration": 29,
    "start_time": "2022-06-15T16:19:57.287Z"
   },
   {
    "duration": 23,
    "start_time": "2022-06-15T16:19:57.529Z"
   },
   {
    "duration": 13,
    "start_time": "2022-06-15T16:19:57.992Z"
   },
   {
    "duration": 6,
    "start_time": "2022-06-15T16:19:58.674Z"
   },
   {
    "duration": 11,
    "start_time": "2022-06-15T16:19:58.886Z"
   },
   {
    "duration": 9,
    "start_time": "2022-06-15T16:19:59.344Z"
   },
   {
    "duration": 4,
    "start_time": "2022-06-15T16:19:59.760Z"
   },
   {
    "duration": 11,
    "start_time": "2022-06-15T16:20:00.001Z"
   },
   {
    "duration": 1577,
    "start_time": "2022-06-15T16:20:00.744Z"
   },
   {
    "duration": 474,
    "start_time": "2022-06-15T16:20:08.967Z"
   },
   {
    "duration": 1351,
    "start_time": "2022-06-15T16:25:13.268Z"
   },
   {
    "duration": 15,
    "start_time": "2022-06-15T16:25:23.642Z"
   },
   {
    "duration": 10,
    "start_time": "2022-06-15T16:25:50.875Z"
   },
   {
    "duration": 76,
    "start_time": "2022-06-15T16:25:56.974Z"
   },
   {
    "duration": 1308,
    "start_time": "2022-06-15T16:26:06.140Z"
   },
   {
    "duration": 325,
    "start_time": "2022-06-15T16:27:13.020Z"
   },
   {
    "duration": 1341,
    "start_time": "2022-06-15T16:27:31.967Z"
   },
   {
    "duration": 11,
    "start_time": "2022-06-15T16:37:50.241Z"
   },
   {
    "duration": 7,
    "start_time": "2022-06-15T16:37:55.759Z"
   },
   {
    "duration": 9,
    "start_time": "2022-06-15T16:38:50.373Z"
   },
   {
    "duration": 93,
    "start_time": "2022-06-15T16:40:39.101Z"
   },
   {
    "duration": 20,
    "start_time": "2022-06-15T16:40:40.004Z"
   },
   {
    "duration": 17,
    "start_time": "2022-06-15T16:40:40.765Z"
   },
   {
    "duration": 11,
    "start_time": "2022-06-15T16:40:42.359Z"
   },
   {
    "duration": 39,
    "start_time": "2022-06-15T16:40:43.206Z"
   },
   {
    "duration": 16,
    "start_time": "2022-06-15T16:42:12.155Z"
   },
   {
    "duration": 7,
    "start_time": "2022-06-15T16:42:45.762Z"
   },
   {
    "duration": 5,
    "start_time": "2022-06-15T16:43:03.891Z"
   },
   {
    "duration": 8,
    "start_time": "2022-06-15T16:43:26.459Z"
   },
   {
    "duration": 8,
    "start_time": "2022-06-15T16:43:43.522Z"
   },
   {
    "duration": 16,
    "start_time": "2022-06-15T16:44:01.855Z"
   },
   {
    "duration": 13,
    "start_time": "2022-06-15T16:44:02.760Z"
   },
   {
    "duration": 38,
    "start_time": "2022-06-15T16:44:03.156Z"
   },
   {
    "duration": 5,
    "start_time": "2022-06-15T16:44:03.854Z"
   },
   {
    "duration": 10,
    "start_time": "2022-06-15T16:44:04.282Z"
   },
   {
    "duration": 6,
    "start_time": "2022-06-15T16:44:05.004Z"
   },
   {
    "duration": 39,
    "start_time": "2022-06-15T16:44:05.422Z"
   },
   {
    "duration": 5,
    "start_time": "2022-06-15T16:44:06.180Z"
   },
   {
    "duration": 50,
    "start_time": "2022-06-15T16:44:07.013Z"
   },
   {
    "duration": 12,
    "start_time": "2022-06-15T16:44:07.396Z"
   },
   {
    "duration": 5,
    "start_time": "2022-06-15T16:44:07.964Z"
   },
   {
    "duration": 55,
    "start_time": "2022-06-15T16:44:34.679Z"
   },
   {
    "duration": 13,
    "start_time": "2022-06-15T16:44:44.574Z"
   },
   {
    "duration": 5,
    "start_time": "2022-06-15T16:44:45.667Z"
   },
   {
    "duration": 20,
    "start_time": "2022-06-15T16:44:47.197Z"
   },
   {
    "duration": 29,
    "start_time": "2022-06-15T16:44:47.444Z"
   },
   {
    "duration": 19,
    "start_time": "2022-06-15T16:44:47.989Z"
   },
   {
    "duration": 4,
    "start_time": "2022-06-15T16:44:48.700Z"
   },
   {
    "duration": 11,
    "start_time": "2022-06-15T16:44:48.947Z"
   },
   {
    "duration": 8,
    "start_time": "2022-06-15T16:44:49.421Z"
   },
   {
    "duration": 9,
    "start_time": "2022-06-15T16:44:49.923Z"
   },
   {
    "duration": 10,
    "start_time": "2022-06-15T16:44:50.165Z"
   },
   {
    "duration": 8,
    "start_time": "2022-06-15T16:44:50.884Z"
   },
   {
    "duration": 533,
    "start_time": "2022-06-15T16:44:52.523Z"
   },
   {
    "duration": 4,
    "start_time": "2022-06-15T16:46:25.515Z"
   },
   {
    "duration": 49,
    "start_time": "2022-06-15T16:46:34.417Z"
   },
   {
    "duration": 8,
    "start_time": "2022-06-15T16:47:26.850Z"
   },
   {
    "duration": 450,
    "start_time": "2022-06-15T16:51:02.889Z"
   },
   {
    "duration": 1028,
    "start_time": "2022-06-15T20:00:35.541Z"
   },
   {
    "duration": 20,
    "start_time": "2022-06-15T20:00:36.571Z"
   },
   {
    "duration": 74,
    "start_time": "2022-06-15T20:00:46.143Z"
   },
   {
    "duration": 7,
    "start_time": "2022-06-15T20:00:56.489Z"
   },
   {
    "duration": 6,
    "start_time": "2022-06-15T20:04:06.010Z"
   },
   {
    "duration": 8,
    "start_time": "2022-06-15T20:04:36.142Z"
   },
   {
    "duration": 8,
    "start_time": "2022-06-15T20:05:22.156Z"
   },
   {
    "duration": 7,
    "start_time": "2022-06-15T20:05:34.637Z"
   },
   {
    "duration": 7,
    "start_time": "2022-06-15T20:08:17.309Z"
   },
   {
    "duration": 6,
    "start_time": "2022-06-15T20:08:50.362Z"
   },
   {
    "duration": 8,
    "start_time": "2022-06-15T20:09:49.668Z"
   },
   {
    "duration": 11,
    "start_time": "2022-06-15T20:10:20.428Z"
   },
   {
    "duration": 9,
    "start_time": "2022-06-15T20:12:22.248Z"
   },
   {
    "duration": 8,
    "start_time": "2022-06-15T20:13:44.816Z"
   },
   {
    "duration": 294,
    "start_time": "2022-06-15T20:14:31.962Z"
   },
   {
    "duration": 274,
    "start_time": "2022-06-15T20:14:52.832Z"
   },
   {
    "duration": 304,
    "start_time": "2022-06-15T20:15:15.425Z"
   },
   {
    "duration": 8,
    "start_time": "2022-06-15T20:15:38.865Z"
   },
   {
    "duration": 7,
    "start_time": "2022-06-15T20:16:45.109Z"
   },
   {
    "duration": 5,
    "start_time": "2022-06-15T20:16:57.402Z"
   },
   {
    "duration": 5,
    "start_time": "2022-06-15T20:17:20.298Z"
   },
   {
    "duration": 10,
    "start_time": "2022-06-15T20:30:09.874Z"
   },
   {
    "duration": 9,
    "start_time": "2022-06-15T20:30:24.742Z"
   },
   {
    "duration": 9,
    "start_time": "2022-06-15T20:30:39.730Z"
   },
   {
    "duration": 9,
    "start_time": "2022-06-15T20:31:00.222Z"
   },
   {
    "duration": 13,
    "start_time": "2022-06-15T20:31:09.803Z"
   },
   {
    "duration": 46,
    "start_time": "2022-06-15T20:34:31.893Z"
   },
   {
    "duration": 10,
    "start_time": "2022-06-15T20:34:40.209Z"
   },
   {
    "duration": 11,
    "start_time": "2022-06-15T20:34:48.118Z"
   },
   {
    "duration": 10,
    "start_time": "2022-06-15T20:35:05.363Z"
   },
   {
    "duration": 31,
    "start_time": "2022-06-16T12:45:25.980Z"
   },
   {
    "duration": 31,
    "start_time": "2022-06-16T12:46:39.193Z"
   },
   {
    "duration": 36,
    "start_time": "2022-06-16T12:46:50.115Z"
   },
   {
    "duration": 497,
    "start_time": "2022-06-16T12:46:58.897Z"
   },
   {
    "duration": 34,
    "start_time": "2022-06-16T12:47:06.713Z"
   },
   {
    "duration": 17,
    "start_time": "2022-06-16T12:47:19.457Z"
   },
   {
    "duration": 32,
    "start_time": "2022-06-16T12:47:33.392Z"
   },
   {
    "duration": 62,
    "start_time": "2022-06-16T12:47:54.149Z"
   },
   {
    "duration": 15,
    "start_time": "2022-06-16T12:47:54.477Z"
   },
   {
    "duration": 15,
    "start_time": "2022-06-16T12:47:54.861Z"
   },
   {
    "duration": 9,
    "start_time": "2022-06-16T12:47:55.661Z"
   },
   {
    "duration": 41,
    "start_time": "2022-06-16T12:47:56.165Z"
   },
   {
    "duration": 4,
    "start_time": "2022-06-16T12:47:56.756Z"
   },
   {
    "duration": 9,
    "start_time": "2022-06-16T12:47:57.184Z"
   },
   {
    "duration": 4,
    "start_time": "2022-06-16T12:47:57.877Z"
   },
   {
    "duration": 6,
    "start_time": "2022-06-16T12:47:58.299Z"
   },
   {
    "duration": 4,
    "start_time": "2022-06-16T12:47:58.695Z"
   },
   {
    "duration": 27,
    "start_time": "2022-06-16T12:47:59.373Z"
   },
   {
    "duration": 9,
    "start_time": "2022-06-16T12:47:59.869Z"
   },
   {
    "duration": 4,
    "start_time": "2022-06-16T12:48:00.445Z"
   },
   {
    "duration": 18,
    "start_time": "2022-06-16T12:48:01.053Z"
   },
   {
    "duration": 15,
    "start_time": "2022-06-16T12:48:01.285Z"
   },
   {
    "duration": 16,
    "start_time": "2022-06-16T12:48:01.665Z"
   },
   {
    "duration": 4,
    "start_time": "2022-06-16T12:48:02.313Z"
   },
   {
    "duration": 12,
    "start_time": "2022-06-16T12:48:02.554Z"
   },
   {
    "duration": 7,
    "start_time": "2022-06-16T12:48:02.985Z"
   },
   {
    "duration": 5,
    "start_time": "2022-06-16T12:48:03.441Z"
   },
   {
    "duration": 12,
    "start_time": "2022-06-16T12:48:03.669Z"
   },
   {
    "duration": 40,
    "start_time": "2022-06-16T12:48:04.515Z"
   },
   {
    "duration": 34,
    "start_time": "2022-06-16T12:49:23.660Z"
   },
   {
    "duration": 74,
    "start_time": "2022-06-16T12:50:32.646Z"
   },
   {
    "duration": 13,
    "start_time": "2022-06-16T12:50:48.242Z"
   },
   {
    "duration": 18,
    "start_time": "2022-06-16T12:51:35.709Z"
   },
   {
    "duration": 31,
    "start_time": "2022-06-16T12:52:20.881Z"
   },
   {
    "duration": 13,
    "start_time": "2022-06-16T12:52:57.016Z"
   },
   {
    "duration": 19,
    "start_time": "2022-06-16T12:53:06.172Z"
   },
   {
    "duration": 20,
    "start_time": "2022-06-16T12:53:29.453Z"
   },
   {
    "duration": 466,
    "start_time": "2022-06-16T12:54:45.892Z"
   },
   {
    "duration": 22,
    "start_time": "2022-06-16T12:55:01.654Z"
   },
   {
    "duration": 7,
    "start_time": "2022-06-16T12:55:26.851Z"
   },
   {
    "duration": 11,
    "start_time": "2022-06-16T12:55:44.828Z"
   },
   {
    "duration": 10,
    "start_time": "2022-06-16T12:55:51.355Z"
   },
   {
    "duration": 51,
    "start_time": "2022-06-16T12:56:27.666Z"
   },
   {
    "duration": 36,
    "start_time": "2022-06-16T12:56:49.657Z"
   },
   {
    "duration": 34,
    "start_time": "2022-06-16T12:56:59.173Z"
   },
   {
    "duration": 25,
    "start_time": "2022-06-16T12:57:39.240Z"
   },
   {
    "duration": 26,
    "start_time": "2022-06-16T12:57:48.766Z"
   },
   {
    "duration": 47,
    "start_time": "2022-06-16T12:57:53.282Z"
   },
   {
    "duration": 12,
    "start_time": "2022-06-16T13:23:46.281Z"
   },
   {
    "duration": 16,
    "start_time": "2022-06-16T13:24:09.840Z"
   },
   {
    "duration": 12,
    "start_time": "2022-06-16T13:25:06.158Z"
   },
   {
    "duration": 29,
    "start_time": "2022-06-16T13:27:22.304Z"
   },
   {
    "duration": 11,
    "start_time": "2022-06-16T13:27:42.080Z"
   },
   {
    "duration": 448,
    "start_time": "2022-06-16T14:07:38.145Z"
   },
   {
    "duration": 352,
    "start_time": "2022-06-16T14:08:45.849Z"
   },
   {
    "duration": 13,
    "start_time": "2022-06-16T14:08:57.007Z"
   },
   {
    "duration": 300,
    "start_time": "2022-06-16T14:09:48.953Z"
   },
   {
    "duration": 305,
    "start_time": "2022-06-16T14:12:02.281Z"
   },
   {
    "duration": 98,
    "start_time": "2022-06-16T16:42:23.751Z"
   },
   {
    "duration": 23,
    "start_time": "2022-06-16T16:42:57.097Z"
   },
   {
    "duration": 113,
    "start_time": "2022-06-16T16:50:24.477Z"
   },
   {
    "duration": 25,
    "start_time": "2022-06-16T16:50:45.373Z"
   },
   {
    "duration": 28,
    "start_time": "2022-06-16T16:51:04.250Z"
   },
   {
    "duration": 17,
    "start_time": "2022-06-16T16:53:52.903Z"
   },
   {
    "duration": 8,
    "start_time": "2022-06-16T16:53:54.605Z"
   },
   {
    "duration": 12,
    "start_time": "2022-06-16T16:56:46.619Z"
   },
   {
    "duration": 4,
    "start_time": "2022-06-16T16:58:59.973Z"
   },
   {
    "duration": 5,
    "start_time": "2022-06-16T16:59:08.435Z"
   },
   {
    "duration": 7,
    "start_time": "2022-06-16T16:59:27.679Z"
   },
   {
    "duration": 6,
    "start_time": "2022-06-16T17:00:00.483Z"
   },
   {
    "duration": 12,
    "start_time": "2022-06-16T17:00:01.047Z"
   },
   {
    "duration": 12,
    "start_time": "2022-06-16T17:02:26.999Z"
   },
   {
    "duration": 4,
    "start_time": "2022-06-16T17:31:00.533Z"
   },
   {
    "duration": 9,
    "start_time": "2022-06-16T17:31:01.312Z"
   },
   {
    "duration": 3,
    "start_time": "2022-06-16T17:31:46.107Z"
   },
   {
    "duration": 9,
    "start_time": "2022-06-16T17:31:47.520Z"
   },
   {
    "duration": 10,
    "start_time": "2022-06-16T17:32:02.103Z"
   },
   {
    "duration": 82,
    "start_time": "2022-06-16T17:32:07.658Z"
   },
   {
    "duration": 17,
    "start_time": "2022-06-16T17:32:08.126Z"
   },
   {
    "duration": 19,
    "start_time": "2022-06-16T17:32:08.549Z"
   },
   {
    "duration": 11,
    "start_time": "2022-06-16T17:32:09.469Z"
   },
   {
    "duration": 52,
    "start_time": "2022-06-16T17:32:09.948Z"
   },
   {
    "duration": 4,
    "start_time": "2022-06-16T17:32:10.618Z"
   },
   {
    "duration": 11,
    "start_time": "2022-06-16T17:32:11.035Z"
   },
   {
    "duration": 6,
    "start_time": "2022-06-16T17:32:11.703Z"
   },
   {
    "duration": 7,
    "start_time": "2022-06-16T17:32:12.160Z"
   },
   {
    "duration": 5,
    "start_time": "2022-06-16T17:32:12.550Z"
   },
   {
    "duration": 50,
    "start_time": "2022-06-16T17:32:13.164Z"
   },
   {
    "duration": 12,
    "start_time": "2022-06-16T17:32:13.604Z"
   },
   {
    "duration": 5,
    "start_time": "2022-06-16T17:32:14.270Z"
   },
   {
    "duration": 33,
    "start_time": "2022-06-16T17:32:14.970Z"
   },
   {
    "duration": 30,
    "start_time": "2022-06-16T17:32:15.213Z"
   },
   {
    "duration": 13,
    "start_time": "2022-06-16T17:32:15.646Z"
   },
   {
    "duration": 5,
    "start_time": "2022-06-16T17:32:16.332Z"
   },
   {
    "duration": 18,
    "start_time": "2022-06-16T17:32:16.525Z"
   },
   {
    "duration": 8,
    "start_time": "2022-06-16T17:32:16.973Z"
   },
   {
    "duration": 4,
    "start_time": "2022-06-16T17:32:17.406Z"
   },
   {
    "duration": 9,
    "start_time": "2022-06-16T17:32:17.614Z"
   },
   {
    "duration": 34,
    "start_time": "2022-06-16T17:32:18.505Z"
   },
   {
    "duration": 17,
    "start_time": "2022-06-16T17:32:18.705Z"
   },
   {
    "duration": 10,
    "start_time": "2022-06-16T17:32:19.541Z"
   },
   {
    "duration": 4,
    "start_time": "2022-06-16T17:32:19.795Z"
   },
   {
    "duration": 4,
    "start_time": "2022-06-16T17:32:19.996Z"
   },
   {
    "duration": 9,
    "start_time": "2022-06-16T17:32:20.269Z"
   },
   {
    "duration": 4,
    "start_time": "2022-06-16T17:33:15.573Z"
   },
   {
    "duration": 10,
    "start_time": "2022-06-16T17:33:16.153Z"
   },
   {
    "duration": 290,
    "start_time": "2022-06-16T17:35:03.049Z"
   },
   {
    "duration": 532,
    "start_time": "2022-06-16T17:35:38.039Z"
   },
   {
    "duration": 46,
    "start_time": "2022-06-16T17:35:56.721Z"
   },
   {
    "duration": 13,
    "start_time": "2022-06-16T17:36:51.998Z"
   },
   {
    "duration": 5,
    "start_time": "2022-06-16T17:37:01.508Z"
   },
   {
    "duration": 11,
    "start_time": "2022-06-16T17:37:02.327Z"
   },
   {
    "duration": 8,
    "start_time": "2022-06-16T17:37:28.727Z"
   },
   {
    "duration": 11,
    "start_time": "2022-06-16T17:37:38.203Z"
   },
   {
    "duration": 4,
    "start_time": "2022-06-16T17:37:53.093Z"
   },
   {
    "duration": 11,
    "start_time": "2022-06-16T17:38:33.849Z"
   },
   {
    "duration": 7,
    "start_time": "2022-06-16T17:38:45.747Z"
   },
   {
    "duration": 8,
    "start_time": "2022-06-16T17:38:48.738Z"
   },
   {
    "duration": 4,
    "start_time": "2022-06-16T17:39:56.094Z"
   },
   {
    "duration": 5,
    "start_time": "2022-06-16T17:39:56.624Z"
   },
   {
    "duration": 10,
    "start_time": "2022-06-16T17:39:57.274Z"
   },
   {
    "duration": 17,
    "start_time": "2022-06-16T17:40:54.544Z"
   },
   {
    "duration": 20,
    "start_time": "2022-06-16T17:41:30.256Z"
   },
   {
    "duration": 24,
    "start_time": "2022-06-16T17:42:57.574Z"
   },
   {
    "duration": 26,
    "start_time": "2022-06-16T17:43:27.967Z"
   },
   {
    "duration": 5,
    "start_time": "2022-06-16T17:44:52.824Z"
   },
   {
    "duration": 22,
    "start_time": "2022-06-16T17:45:37.006Z"
   },
   {
    "duration": 23,
    "start_time": "2022-06-16T17:46:33.334Z"
   },
   {
    "duration": 34,
    "start_time": "2022-06-16T17:47:11.697Z"
   },
   {
    "duration": 31,
    "start_time": "2022-06-16T17:48:37.613Z"
   },
   {
    "duration": 25,
    "start_time": "2022-06-16T17:50:42.761Z"
   },
   {
    "duration": 3,
    "start_time": "2022-06-16T18:08:03.948Z"
   },
   {
    "duration": 7,
    "start_time": "2022-06-16T18:08:04.507Z"
   },
   {
    "duration": 519,
    "start_time": "2022-07-09T10:11:04.437Z"
   },
   {
    "duration": 22,
    "start_time": "2022-07-09T10:11:04.958Z"
   },
   {
    "duration": 16,
    "start_time": "2022-07-09T10:11:05.160Z"
   },
   {
    "duration": 9,
    "start_time": "2022-07-09T10:11:05.889Z"
   },
   {
    "duration": 34,
    "start_time": "2022-07-09T10:11:06.391Z"
   },
   {
    "duration": 4,
    "start_time": "2022-07-09T10:11:07.060Z"
   },
   {
    "duration": 9,
    "start_time": "2022-07-09T10:11:09.463Z"
   },
   {
    "duration": 4,
    "start_time": "2022-07-09T10:11:10.952Z"
   },
   {
    "duration": 7,
    "start_time": "2022-07-09T10:11:11.746Z"
   },
   {
    "duration": 4,
    "start_time": "2022-07-09T10:11:15.976Z"
   },
   {
    "duration": 33,
    "start_time": "2022-07-09T10:11:17.443Z"
   },
   {
    "duration": 10,
    "start_time": "2022-07-09T10:11:23.967Z"
   },
   {
    "duration": 32,
    "start_time": "2022-07-09T10:11:39.074Z"
   },
   {
    "duration": 646,
    "start_time": "2022-10-18T19:53:36.660Z"
   },
   {
    "duration": 21,
    "start_time": "2022-10-18T19:53:38.090Z"
   },
   {
    "duration": 14,
    "start_time": "2022-10-18T19:53:39.748Z"
   },
   {
    "duration": 9,
    "start_time": "2022-10-18T19:53:42.058Z"
   },
   {
    "duration": 30,
    "start_time": "2022-10-18T19:53:43.245Z"
   },
   {
    "duration": 4,
    "start_time": "2022-10-18T19:53:45.337Z"
   },
   {
    "duration": 6,
    "start_time": "2022-10-18T19:53:47.082Z"
   },
   {
    "duration": 76,
    "start_time": "2022-11-03T21:50:52.063Z"
   },
   {
    "duration": 668,
    "start_time": "2022-11-03T21:50:59.121Z"
   },
   {
    "duration": 35,
    "start_time": "2022-11-03T21:50:59.792Z"
   },
   {
    "duration": 19,
    "start_time": "2022-11-03T21:51:00.173Z"
   },
   {
    "duration": 14,
    "start_time": "2022-11-03T21:51:00.961Z"
   },
   {
    "duration": 50,
    "start_time": "2022-11-03T21:51:02.759Z"
   },
   {
    "duration": 4,
    "start_time": "2022-11-03T21:51:03.366Z"
   },
   {
    "duration": 10,
    "start_time": "2022-11-03T21:51:03.789Z"
   },
   {
    "duration": 5,
    "start_time": "2022-11-03T21:51:04.366Z"
   },
   {
    "duration": 9,
    "start_time": "2022-11-03T21:51:04.757Z"
   },
   {
    "duration": 5,
    "start_time": "2022-11-03T21:51:05.122Z"
   },
   {
    "duration": 45,
    "start_time": "2022-11-03T21:51:05.741Z"
   },
   {
    "duration": 19,
    "start_time": "2022-11-03T21:51:06.127Z"
   },
   {
    "duration": 8,
    "start_time": "2022-11-03T21:51:06.712Z"
   },
   {
    "duration": 24,
    "start_time": "2022-11-03T21:51:07.304Z"
   },
   {
    "duration": 22,
    "start_time": "2022-11-03T21:51:07.503Z"
   },
   {
    "duration": 15,
    "start_time": "2022-11-03T21:51:07.949Z"
   },
   {
    "duration": 5,
    "start_time": "2022-11-03T21:51:08.582Z"
   },
   {
    "duration": 15,
    "start_time": "2022-11-03T21:51:08.815Z"
   },
   {
    "duration": 8,
    "start_time": "2022-11-03T21:51:09.314Z"
   },
   {
    "duration": 5,
    "start_time": "2022-11-03T21:51:09.846Z"
   },
   {
    "duration": 10,
    "start_time": "2022-11-03T21:51:10.070Z"
   },
   {
    "duration": 33,
    "start_time": "2022-11-03T21:51:11.542Z"
   },
   {
    "duration": 17,
    "start_time": "2022-11-03T21:51:11.831Z"
   },
   {
    "duration": 5,
    "start_time": "2022-11-03T21:51:12.662Z"
   }
  ],
  "colab": {
   "name": "dpp_template_part2.ipynb",
   "provenance": []
  },
  "kernelspec": {
   "display_name": "Python 3 (ipykernel)",
   "language": "python",
   "name": "python3"
  },
  "language_info": {
   "codemirror_mode": {
    "name": "ipython",
    "version": 3
   },
   "file_extension": ".py",
   "mimetype": "text/x-python",
   "name": "python",
   "nbconvert_exporter": "python",
   "pygments_lexer": "ipython3",
   "version": "3.9.5"
  },
  "toc": {
   "base_numbering": 1,
   "nav_menu": {},
   "number_sections": true,
   "sideBar": true,
   "skip_h1_title": true,
   "title_cell": "Table of Contents",
   "title_sidebar": "Contents",
   "toc_cell": false,
   "toc_position": {},
   "toc_section_display": true,
   "toc_window_display": false
  }
 },
 "nbformat": 4,
 "nbformat_minor": 5
}
